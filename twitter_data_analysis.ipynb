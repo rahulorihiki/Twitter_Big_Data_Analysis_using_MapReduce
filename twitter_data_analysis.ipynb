{
 "cells": [
  {
   "cell_type": "markdown",
   "metadata": {
    "application/vnd.databricks.v1+cell": {
     "cellMetadata": {},
     "inputWidgets": {},
     "nuid": "e21d7bd8-1ffc-43a8-ae41-e8d1266ae5a7",
     "showTitle": false,
     "title": ""
    }
   },
   "source": [
    "### Extracting top 5 hashtag trends for different months. The results are in the following format:\n",
    "\n",
    "a. Month, rank, Hashtag, number of tweets"
   ]
  },
  {
   "cell_type": "code",
   "execution_count": null,
   "metadata": {
    "application/vnd.databricks.v1+cell": {
     "cellMetadata": {
      "byteLimit": 2048000,
      "rowLimit": 10000
     },
     "inputWidgets": {},
     "nuid": "bd8f2cb3-f418-491e-90cb-7aa87515ffc8",
     "showTitle": false,
     "title": ""
    }
   },
   "outputs": [
    {
     "data": {
      "text/html": [
       "\n",
       "            <div>\n",
       "                <p><b>SparkSession - hive</b></p>\n",
       "                \n",
       "        <div>\n",
       "            <p><b>SparkContext</b></p>\n",
       "\n",
       "            <p><a href=\"/?o=3428699150191283#setting/sparkui/0615-144910-gsq6rmsk/driver-2243356112997539279\">Spark UI</a></p>\n",
       "\n",
       "            <dl>\n",
       "              <dt>Version</dt>\n",
       "                <dd><code>v3.3.2</code></dd>\n",
       "              <dt>Master</dt>\n",
       "                <dd><code>local[8]</code></dd>\n",
       "              <dt>AppName</dt>\n",
       "                <dd><code>Databricks Shell</code></dd>\n",
       "            </dl>\n",
       "        </div>\n",
       "        \n",
       "            </div>\n",
       "        "
      ]
     },
     "metadata": {
      "application/vnd.databricks.v1+output": {
       "addedWidgets": {},
       "arguments": {},
       "data": "\n            <div>\n                <p><b>SparkSession - hive</b></p>\n                \n        <div>\n            <p><b>SparkContext</b></p>\n\n            <p><a href=\"/?o=3428699150191283#setting/sparkui/0615-144910-gsq6rmsk/driver-2243356112997539279\">Spark UI</a></p>\n\n            <dl>\n              <dt>Version</dt>\n                <dd><code>v3.3.2</code></dd>\n              <dt>Master</dt>\n                <dd><code>local[8]</code></dd>\n              <dt>AppName</dt>\n                <dd><code>Databricks Shell</code></dd>\n            </dl>\n        </div>\n        \n            </div>\n        ",
       "datasetInfos": [],
       "metadata": {},
       "removedWidgets": [],
       "textData": null,
       "type": "htmlSandbox"
      }
     },
     "output_type": "display_data"
    }
   ],
   "source": [
    "# Creating a spark session\n",
    "spark"
   ]
  },
  {
   "cell_type": "code",
   "execution_count": null,
   "metadata": {
    "application/vnd.databricks.v1+cell": {
     "cellMetadata": {
      "byteLimit": 2048000,
      "rowLimit": 10000
     },
     "inputWidgets": {},
     "nuid": "a9ef9a8f-204a-4d67-8f81-6c7986d74d6a",
     "showTitle": false,
     "title": ""
    }
   },
   "outputs": [],
   "source": [
    "# Initializing a spark object\n",
    "sc = spark.sparkContext"
   ]
  },
  {
   "cell_type": "markdown",
   "metadata": {
    "application/vnd.databricks.v1+cell": {
     "cellMetadata": {},
     "inputWidgets": {},
     "nuid": "b3304b67-1bc3-463c-8329-1e954584a8e5",
     "showTitle": false,
     "title": ""
    }
   },
   "source": [
    "Creating, displaying and storing tweets in PySpark RDD"
   ]
  },
  {
   "cell_type": "code",
   "execution_count": null,
   "metadata": {
    "application/vnd.databricks.v1+cell": {
     "cellMetadata": {
      "byteLimit": 2048000,
      "rowLimit": 10000
     },
     "inputWidgets": {},
     "nuid": "9a042fd7-aa67-4488-8df6-255d210830af",
     "showTitle": false,
     "title": ""
    }
   },
   "outputs": [],
   "source": [
    "# Storing the file path in variable\n",
    "file_path = \"/FileStore/tables/jio2025/Sample_tweets.csv\""
   ]
  },
  {
   "cell_type": "code",
   "execution_count": null,
   "metadata": {
    "application/vnd.databricks.v1+cell": {
     "cellMetadata": {
      "byteLimit": 2048000,
      "rowLimit": 10000
     },
     "inputWidgets": {},
     "nuid": "6bfbfcfd-3ed5-4e9e-9adf-09a1f9b93514",
     "showTitle": false,
     "title": ""
    }
   },
   "outputs": [],
   "source": [
    "# Reading the csv file in pyspark RDD\n",
    "sample_tweets = spark.read \\\n",
    "    .option(\"header\", \"true\") \\\n",
    "    .option(\"multiLine\", \"true\") \\\n",
    "    .option(\"quote\", '\"') \\\n",
    "    .option(\"escape\", '\"') \\\n",
    "    .csv(file_path)"
   ]
  },
  {
   "cell_type": "code",
   "execution_count": null,
   "metadata": {
    "application/vnd.databricks.v1+cell": {
     "cellMetadata": {
      "byteLimit": 2048000,
      "rowLimit": 10000
     },
     "inputWidgets": {},
     "nuid": "57f6c004-8b8a-4e87-948e-1c0670c6851d",
     "showTitle": false,
     "title": ""
    }
   },
   "outputs": [
    {
     "name": "stdout",
     "output_type": "stream",
     "text": [
      "Out[5]: [Row(_c0='0', user_name='Navaldeep Singh', text='Suresh raina has the best room out of all the players  #IPL2020', user_followers='1311', date='25-08-2020', user_location='Melbourne / New Delhi', source='Twitter for iPhone', user_description='#AppleFan #CricketAddict and a happy husband ☺️'),\n",
      " Row(_c0='1', user_name='Naseh Mohtesham', text='All of the Country is So Much into #IPL2020  This Year ...  \\nThanks @BCCI .. Best Decision To Host IPL This Year', user_followers='165', date='29-09-2020', user_location=None, source='Twitter for iPhone', user_description='MBA 👨\\u200d🎓, Cricket 🏏, Politics 💰, RCB Freak 🥰'),\n",
      " Row(_c0='2', user_name='Sports segment', text='#IPL2020 CSK win toss and bowl #IPL #RRvCSK', user_followers='3', date='22-09-2020', user_location=None, source='Twitter Web App', user_description='The official Account of https://t.co/pJmosdM65g'),\n",
      " Row(_c0='3', user_name='kamli kudi 🤪', text='Pooran 🔥🔥\\nFinally !! 🥳🥳💃💃\\n\\n#SaddaPunjab\\xa0 #IPL2020\\xa0 #KXIP\\xa0 #RCBvKXIP', user_followers='29', date='15-10-2020', user_location=None, source='Twitter for iPhone', user_description=None),\n",
      " Row(_c0='4', user_name='Himanshu Dixit', text='every delhi capital fan.....right now!😆\\n\\n#IPL2020 #IPL2020playoffs #today #TrendingNow #viralnews #ViralVideo… https://t.co/vWYepDfDph', user_followers='5', date='05-11-2020', user_location=None, source='Twitter Web App', user_description='Thanks God, for a Creative Mind.....'),\n",
      " Row(_c0='5', user_name='CricTracker', text=\"Shikhar Dhawan's century takes DC to a decent total. #IPL #IPL2020 #KXIPvsDC\\n\\n(📷:  IPL/BCCI) https://t.co/JodBi6z3lu\", user_followers='139300', date='20-10-2020', user_location='India', source='Twitter Web App', user_description='Follow CricTracker for the latest News | Previews | Reviews | Videos | Fantasy Tips | Stats | Interviews and more. https://t.co/S4jp2QGVks'),\n",
      " Row(_c0='6', user_name='Wisden India', text='Shreyas Iyer has won the toss and Delhi Capitals will bowl first in Abu Dhabi!\\n\\n#KKRvDC | #IPL2020 https://t.co/0WG3GbqYql', user_followers='844025', date='24-10-2020', user_location=None, source='TweetDeck', user_description='The independent voice of Indian cricket. For more from Wisden, check out @WisdenCricket'),\n",
      " Row(_c0='7', user_name='Stat Doctor🩺', text='Sanju Samson has the most sixes in #IPL2020 \\n\\nRajasthan Royals have also hit the most sixes by any team in this sea… https://t.co/7JiKv7zUqo', user_followers='1817', date='17-10-2020', user_location=None, source='Twitter for Android', user_description='Cricket Statistics Discussions.\\n\\nRun by @CricXtasy'),\n",
      " Row(_c0='8', user_name='Ankeet Kumar Hanny', text='@RCBTweets lost to @klrahul11 by 23 runs!!\\n#ipl2020 #KXIPvsRCB', user_followers='163', date='24-09-2020', user_location='Bengaluru, India', source='Twitter for Android', user_description='I’ve learnt that I don’t know anything.\\xa0Have also learnt that people will pay me for what I know.\\nLife is good. 😆😇'),\n",
      " Row(_c0='9', user_name='Anubhav Sachdeva', text='Sharjah is too random. Fun to watch for neutrals, but I fear it will wear off very soon. #IPL2020 https://t.co/MqepEpnGGz', user_followers='146', date='03-10-2020', user_location='New Delhi, India & Anfield.', source='Twitter for Android', user_description='Student. Liverpool FC, Delhi Daredevils and WWE fan. Alternating between football, music and food in life. And occasionally studying.')]"
     ]
    }
   ],
   "source": [
    "# Displaying the first 10 rows stored in the RDD\n",
    "sample_tweets.take(10)"
   ]
  },
  {
   "cell_type": "code",
   "execution_count": null,
   "metadata": {
    "application/vnd.databricks.v1+cell": {
     "cellMetadata": {
      "byteLimit": 2048000,
      "rowLimit": 10000
     },
     "inputWidgets": {},
     "nuid": "fa0e6e33-f4a4-4f03-aa90-f8e201a6f67e",
     "showTitle": false,
     "title": ""
    }
   },
   "outputs": [],
   "source": [
    "# Dropping the unimportant columns\n",
    "sample_tweets = sample_tweets.drop('_c0','user_name','user_followers','user_location','source','user_description')"
   ]
  },
  {
   "cell_type": "code",
   "execution_count": null,
   "metadata": {
    "application/vnd.databricks.v1+cell": {
     "cellMetadata": {
      "byteLimit": 2048000,
      "rowLimit": 10000
     },
     "inputWidgets": {},
     "nuid": "c5923861-0b0a-4507-bc62-6c39f60a2177",
     "showTitle": false,
     "title": ""
    }
   },
   "outputs": [
    {
     "name": "stdout",
     "output_type": "stream",
     "text": [
      "Out[7]: [Row(text='Suresh raina has the best room out of all the players  #IPL2020', date='25-08-2020'),\n",
      " Row(text='All of the Country is So Much into #IPL2020  This Year ...  \\nThanks @BCCI .. Best Decision To Host IPL This Year', date='29-09-2020'),\n",
      " Row(text='#IPL2020 CSK win toss and bowl #IPL #RRvCSK', date='22-09-2020'),\n",
      " Row(text='Pooran 🔥🔥\\nFinally !! 🥳🥳💃💃\\n\\n#SaddaPunjab\\xa0 #IPL2020\\xa0 #KXIP\\xa0 #RCBvKXIP', date='15-10-2020'),\n",
      " Row(text='every delhi capital fan.....right now!😆\\n\\n#IPL2020 #IPL2020playoffs #today #TrendingNow #viralnews #ViralVideo… https://t.co/vWYepDfDph', date='05-11-2020'),\n",
      " Row(text=\"Shikhar Dhawan's century takes DC to a decent total. #IPL #IPL2020 #KXIPvsDC\\n\\n(📷:  IPL/BCCI) https://t.co/JodBi6z3lu\", date='20-10-2020'),\n",
      " Row(text='Shreyas Iyer has won the toss and Delhi Capitals will bowl first in Abu Dhabi!\\n\\n#KKRvDC | #IPL2020 https://t.co/0WG3GbqYql', date='24-10-2020'),\n",
      " Row(text='Sanju Samson has the most sixes in #IPL2020 \\n\\nRajasthan Royals have also hit the most sixes by any team in this sea… https://t.co/7JiKv7zUqo', date='17-10-2020'),\n",
      " Row(text='@RCBTweets lost to @klrahul11 by 23 runs!!\\n#ipl2020 #KXIPvsRCB', date='24-09-2020'),\n",
      " Row(text='Sharjah is too random. Fun to watch for neutrals, but I fear it will wear off very soon. #IPL2020 https://t.co/MqepEpnGGz', date='03-10-2020')]"
     ]
    }
   ],
   "source": [
    "# Displaying the new modified RDD\n",
    "sample_tweets.take(10)"
   ]
  },
  {
   "cell_type": "code",
   "execution_count": null,
   "metadata": {
    "application/vnd.databricks.v1+cell": {
     "cellMetadata": {
      "byteLimit": 2048000,
      "rowLimit": 10000
     },
     "inputWidgets": {},
     "nuid": "0d9c559b-eb36-4f3d-9057-1113c4a683d4",
     "showTitle": false,
     "title": ""
    }
   },
   "outputs": [
    {
     "name": "stdout",
     "output_type": "stream",
     "text": [
      "Out[8]: 50000"
     ]
    }
   ],
   "source": [
    "# Count the total number of rows in the dataframe\n",
    "sample_tweets.count()"
   ]
  },
  {
   "cell_type": "markdown",
   "metadata": {
    "application/vnd.databricks.v1+cell": {
     "cellMetadata": {},
     "inputWidgets": {},
     "nuid": "ca306774-62f2-4096-aefa-750babaa6fd8",
     "showTitle": true,
     "title": ""
    }
   },
   "source": [
    "Filter and segregate tweets of each month in different dataframes"
   ]
  },
  {
   "cell_type": "code",
   "execution_count": null,
   "metadata": {
    "application/vnd.databricks.v1+cell": {
     "cellMetadata": {
      "byteLimit": 2048000,
      "rowLimit": 10000
     },
     "inputWidgets": {},
     "nuid": "e4dbcac5-f9df-468d-accb-58bb2dbf29f7",
     "showTitle": false,
     "title": ""
    }
   },
   "outputs": [],
   "source": [
    "# Converting RDD to dataframe for storing list\n",
    "sample_tweets = sample_tweets.rdd.map(list)"
   ]
  },
  {
   "cell_type": "code",
   "execution_count": null,
   "metadata": {
    "application/vnd.databricks.v1+cell": {
     "cellMetadata": {
      "byteLimit": 2048000,
      "rowLimit": 10000
     },
     "inputWidgets": {},
     "nuid": "7f1a5873-d8a8-432a-ab6e-3eea59769904",
     "showTitle": false,
     "title": ""
    }
   },
   "outputs": [
    {
     "name": "stdout",
     "output_type": "stream",
     "text": [
      "Out[10]: [['Suresh raina has the best room out of all the players  #IPL2020',\n",
      "  '25-08-2020']]"
     ]
    }
   ],
   "source": [
    "sample_tweets.take(1)"
   ]
  },
  {
   "cell_type": "code",
   "execution_count": null,
   "metadata": {
    "application/vnd.databricks.v1+cell": {
     "cellMetadata": {
      "byteLimit": 2048000,
      "rowLimit": 10000
     },
     "inputWidgets": {},
     "nuid": "7be2fdb6-f860-4bfc-980b-5e80f090520a",
     "showTitle": false,
     "title": ""
    }
   },
   "outputs": [],
   "source": [
    "# Function to check if a tweet belongs to specific month\n",
    "def monthwise_tweet(tweet,month):\n",
    "    tweet_date = tweet[1].split('-')\n",
    "    if int(tweet_date[1]) == month:\n",
    "        return True"
   ]
  },
  {
   "cell_type": "code",
   "execution_count": null,
   "metadata": {
    "application/vnd.databricks.v1+cell": {
     "cellMetadata": {
      "byteLimit": 2048000,
      "rowLimit": 10000
     },
     "inputWidgets": {},
     "nuid": "dd66f93a-714a-4d7e-97b2-71322b3415b0",
     "showTitle": false,
     "title": ""
    }
   },
   "outputs": [],
   "source": [
    "# Segregating the tweets to different dataframes representing different months\n",
    "aug_tweets = sample_tweets.filter(lambda tweet: monthwise_tweet(tweet,8))\n",
    "sep_tweets = sample_tweets.filter(lambda tweet: monthwise_tweet(tweet,9))\n",
    "oct_tweets = sample_tweets.filter(lambda tweet: monthwise_tweet(tweet,10))\n",
    "nov_tweets = sample_tweets.filter(lambda tweet: monthwise_tweet(tweet,11))"
   ]
  },
  {
   "cell_type": "code",
   "execution_count": null,
   "metadata": {
    "application/vnd.databricks.v1+cell": {
     "cellMetadata": {
      "byteLimit": 2048000,
      "rowLimit": 10000
     },
     "inputWidgets": {},
     "nuid": "84340846-0c87-45fd-95eb-f8913ab08f84",
     "showTitle": false,
     "title": ""
    }
   },
   "outputs": [
    {
     "name": "stdout",
     "output_type": "stream",
     "text": [
      "Out[13]: [['Suresh raina has the best room out of all the players  #IPL2020',\n",
      "  '25-08-2020'],\n",
      " ['Will @ChennaiIPL meet @mipaltan in @IPL 2020 opener?\\n\\nRohit Sharma tells MS Dhoni see you at the toss on September… https://t.co/zE6TIkn3vx',\n",
      "  '16-08-2020'],\n",
      " ['We miss you @ImRaina , @ChennaiIPL is incomplete without you.\\n#ChennaiSuperKings \\n#IPL2020 \\n#SureshRaina',\n",
      "  '29-08-2020'],\n",
      " [\"Ross Taylor a part of @CPL but why @IPL franchises don't fancy picking him up !! He's still the best in the busines… https://t.co/mNZhEVZUI6\",\n",
      "  '18-08-2020'],\n",
      " ['@ICC It will continue in #IPL2020 💛🦁', '27-08-2020'],\n",
      " ['Kohli and other RCB Players will reach UAE Tomorrow ✌️\\n\\n#PlayBold #IPL2020',\n",
      "  '20-08-2020'],\n",
      " ['Crime of hatred n passion r on rise n it must stop now \\n#IPL2020 #2YearsofCorruPTIon #covidmillionaires… https://t.co/GZG2duOhVS',\n",
      "  '18-08-2020'],\n",
      " ['Will miss you Mr. IPL ☑️\\n\\n#IPL #IPL13 #IPL2020 #CSK #ChennaiSuperKings #WhistlePodu #MSDhoni #Dhoni #SureshRaina… https://t.co/rn97dir4P1',\n",
      "  '29-08-2020'],\n",
      " ['#ViratKohli said that with everything that was going around at one point it was hard to even imagine #IPL happening… https://t.co/DS8Hl7QDzV',\n",
      "  '31-08-2020'],\n",
      " ['#JUSTIN 🚨\\nMember of @ChennaiIPL contingent test positive for Covid-19 whole team goes into quarantine for another w… https://t.co/zqe2pZGdp1',\n",
      "  '28-08-2020']]"
     ]
    }
   ],
   "source": [
    "# Displaying 10 tweets of month August\n",
    "aug_tweets.take(10)"
   ]
  },
  {
   "cell_type": "code",
   "execution_count": null,
   "metadata": {
    "application/vnd.databricks.v1+cell": {
     "cellMetadata": {
      "byteLimit": 2048000,
      "rowLimit": 10000
     },
     "inputWidgets": {},
     "nuid": "34345e09-8772-4310-a1b8-33d230ef91cb",
     "showTitle": false,
     "title": ""
    }
   },
   "outputs": [
    {
     "name": "stdout",
     "output_type": "stream",
     "text": [
      "Out[14]: 1882"
     ]
    }
   ],
   "source": [
    "# Displaying the total count of tweets of August\n",
    "aug_tweets.count()"
   ]
  },
  {
   "cell_type": "markdown",
   "metadata": {
    "application/vnd.databricks.v1+cell": {
     "cellMetadata": {},
     "inputWidgets": {},
     "nuid": "f554fa21-6bdb-4ed0-8b30-fb8d7b77b149",
     "showTitle": false,
     "title": ""
    }
   },
   "source": [
    "Finding the top 5 unique tags for every month and sorting it in decreasing order of their frequency"
   ]
  },
  {
   "cell_type": "code",
   "execution_count": null,
   "metadata": {
    "application/vnd.databricks.v1+cell": {
     "cellMetadata": {
      "byteLimit": 2048000,
      "rowLimit": 10000
     },
     "inputWidgets": {},
     "nuid": "698f53f1-004d-42ac-8943-cc3efbc8a30a",
     "showTitle": false,
     "title": ""
    }
   },
   "outputs": [],
   "source": [
    "import re\n",
    "\n",
    "# Function to find unique tags from every tweet\n",
    "def unique_hashtag(tweet_text):\n",
    "  h = tweet_text.split()\n",
    "\n",
    "   # Choosing only the words starting with # for tags\n",
    "  h = list(filter(lambda word: word.startswith('#'),h))\n",
    "\n",
    "   # Converting every tag into lowercase, removing punctuations and emojis and assigning count 1 to it.\n",
    "   # Only unique tags used in every tweet is returned in the list of tags for that tweet\n",
    "  h = list(set(map(lambda word: (('#' + re.sub('[\\W_]+', '', word.lower())),1),h)) - {'#'})\n",
    "  return h"
   ]
  },
  {
   "cell_type": "code",
   "execution_count": null,
   "metadata": {
    "application/vnd.databricks.v1+cell": {
     "cellMetadata": {
      "byteLimit": 2048000,
      "rowLimit": 10000
     },
     "inputWidgets": {},
     "nuid": "fcec9a8c-6101-4d68-861a-015725ac3649",
     "showTitle": false,
     "title": ""
    }
   },
   "outputs": [],
   "source": [
    "# Finding tags used in every month\n",
    "aug_tags = aug_tweets.flatMap(lambda tweet: unique_hashtag(tweet[0]))\n",
    "sep_tags = sep_tweets.flatMap(lambda tweet: unique_hashtag(tweet[0]))\n",
    "oct_tags = oct_tweets.flatMap(lambda tweet: unique_hashtag(tweet[0]))\n",
    "nov_tags = nov_tweets.flatMap(lambda tweet: unique_hashtag(tweet[0]))"
   ]
  },
  {
   "cell_type": "code",
   "execution_count": null,
   "metadata": {
    "application/vnd.databricks.v1+cell": {
     "cellMetadata": {
      "byteLimit": 2048000,
      "rowLimit": 10000
     },
     "inputWidgets": {},
     "nuid": "82a69603-670d-4e99-9b9b-d1f3ca6f0273",
     "showTitle": false,
     "title": ""
    }
   },
   "outputs": [
    {
     "name": "stdout",
     "output_type": "stream",
     "text": [
      "Out[17]: [('#ipl2020', 1),\n",
      " ('#chennaisuperkings', 1),\n",
      " ('#ipl2020', 1),\n",
      " ('#sureshraina', 1),\n",
      " ('#ipl2020', 1),\n",
      " ('#playbold', 1),\n",
      " ('#ipl2020', 1),\n",
      " ('#covidmillionaires', 1),\n",
      " ('#ipl2020', 1),\n",
      " ('#2yearsofcorruption', 1)]"
     ]
    }
   ],
   "source": [
    "# Displaying the tags used in August\n",
    "aug_tags.take(10)"
   ]
  },
  {
   "cell_type": "code",
   "execution_count": null,
   "metadata": {
    "application/vnd.databricks.v1+cell": {
     "cellMetadata": {
      "byteLimit": 2048000,
      "rowLimit": 10000
     },
     "inputWidgets": {},
     "nuid": "da546794-47ea-414b-90f7-0292465f1777",
     "showTitle": false,
     "title": ""
    }
   },
   "outputs": [
    {
     "name": "stdout",
     "output_type": "stream",
     "text": [
      "Out[18]: 3896"
     ]
    }
   ],
   "source": [
    "# Displaying the count of tags used in August\n",
    "aug_tags.count()"
   ]
  },
  {
   "cell_type": "code",
   "execution_count": null,
   "metadata": {
    "application/vnd.databricks.v1+cell": {
     "cellMetadata": {
      "byteLimit": 2048000,
      "rowLimit": 10000
     },
     "inputWidgets": {},
     "nuid": "9eb6e485-cd05-466c-882f-3cb14ceb7a48",
     "showTitle": false,
     "title": ""
    }
   },
   "outputs": [],
   "source": [
    "# Counting the frequency of every unique tag used in every month\n",
    "aug_tags_count = aug_tags.reduceByKey(lambda a,b: a+b)\n",
    "sep_tags_count = sep_tags.reduceByKey(lambda a,b: a+b)\n",
    "oct_tags_count = oct_tags.reduceByKey(lambda a,b: a+b)\n",
    "nov_tags_count = nov_tags.reduceByKey(lambda a,b: a+b)"
   ]
  },
  {
   "cell_type": "code",
   "execution_count": null,
   "metadata": {
    "application/vnd.databricks.v1+cell": {
     "cellMetadata": {
      "byteLimit": 2048000,
      "rowLimit": 10000
     },
     "inputWidgets": {},
     "nuid": "bb3019ae-f2f0-46d0-836d-d542078cc24b",
     "showTitle": false,
     "title": ""
    }
   },
   "outputs": [
    {
     "name": "stdout",
     "output_type": "stream",
     "text": [
      "Out[20]: [('#ipl2020', 1139),\n",
      " ('#chennaisuperkings', 52),\n",
      " ('#sureshraina', 72),\n",
      " ('#playbold', 34),\n",
      " ('#covidmillionaires', 3),\n",
      " ('#2yearsofcorruption', 1),\n",
      " ('#ipl13', 37),\n",
      " ('#whistlepodu', 12),\n",
      " ('#csk', 117),\n",
      " ('#dhoni', 25)]"
     ]
    }
   ],
   "source": [
    "# Displaying the unique tags and their counts for the month of August\n",
    "aug_tags_count.take(10)"
   ]
  },
  {
   "cell_type": "code",
   "execution_count": null,
   "metadata": {
    "application/vnd.databricks.v1+cell": {
     "cellMetadata": {
      "byteLimit": 2048000,
      "rowLimit": 10000
     },
     "inputWidgets": {},
     "nuid": "ca44ce34-a18f-4f1a-844d-87aa9f686a76",
     "showTitle": false,
     "title": ""
    }
   },
   "outputs": [],
   "source": [
    "# Sorting the tags in descending order of their frequency for every month\n",
    "# Selecting the top 5 tags used in every month\n",
    "aug_tags_count_top = aug_tags_count.sortBy( lambda tag: tag[1], ascending = False).take(5)\n",
    "sep_tags_count_top = sep_tags_count.sortBy( lambda tag: tag[1], ascending = False).take(5)\n",
    "oct_tags_count_top = oct_tags_count.sortBy( lambda tag: tag[1], ascending = False).take(5)\n",
    "nov_tags_count_top = nov_tags_count.sortBy( lambda tag: tag[1], ascending = False).take(5)"
   ]
  },
  {
   "cell_type": "code",
   "execution_count": null,
   "metadata": {
    "application/vnd.databricks.v1+cell": {
     "cellMetadata": {
      "byteLimit": 2048000,
      "rowLimit": 10000
     },
     "inputWidgets": {},
     "nuid": "04cdf25e-c2e1-4c74-a088-ff3a0b1ffab4",
     "showTitle": false,
     "title": ""
    }
   },
   "outputs": [
    {
     "name": "stdout",
     "output_type": "stream",
     "text": [
      "Out[22]: [('#ipl2020', 1139),\n",
      " ('#ipl', 198),\n",
      " ('#dream11', 121),\n",
      " ('#csk', 117),\n",
      " ('#iplinuae', 112)]"
     ]
    }
   ],
   "source": [
    "# Displaying the top 5 tags for August\n",
    "aug_tags_count_top"
   ]
  },
  {
   "cell_type": "markdown",
   "metadata": {
    "application/vnd.databricks.v1+cell": {
     "cellMetadata": {},
     "inputWidgets": {},
     "nuid": "f2fb2e0f-78b4-4966-b1c9-43ccdcf1c179",
     "showTitle": false,
     "title": ""
    }
   },
   "source": [
    "Combining the top 5 tags and their frequencies for each month into a single dataframe and displaying it"
   ]
  },
  {
   "cell_type": "code",
   "execution_count": null,
   "metadata": {
    "application/vnd.databricks.v1+cell": {
     "cellMetadata": {
      "byteLimit": 2048000,
      "rowLimit": 10000
     },
     "inputWidgets": {},
     "nuid": "cdb54241-8d1f-4c4e-9b16-80c19f98c58f",
     "showTitle": false,
     "title": ""
    }
   },
   "outputs": [],
   "source": [
    "# Storing the top 5 tags of each month along with their ranks and number of tweets in list\n",
    "top_tags = [('August',aug_tags_count_top.index(tag)+1,tag[0],tag[1]) for tag in aug_tags_count_top] + [('September',sep_tags_count_top.index(tag)+1,tag[0],tag[1]) for tag in sep_tags_count_top] + [('October',oct_tags_count_top.index(tag)+1,tag[0],tag[1]) for tag in oct_tags_count_top] + [('November',nov_tags_count_top.index(tag)+1,tag[0],tag[1]) for tag in nov_tags_count_top]"
   ]
  },
  {
   "cell_type": "code",
   "execution_count": null,
   "metadata": {
    "application/vnd.databricks.v1+cell": {
     "cellMetadata": {
      "byteLimit": 2048000,
      "rowLimit": 10000
     },
     "inputWidgets": {},
     "nuid": "f0fca434-1df9-43ea-9fbe-561e6f023cea",
     "showTitle": false,
     "title": ""
    }
   },
   "outputs": [],
   "source": [
    "# Creating an RDD of the above list\n",
    "top_tags_df = sc.parallelize(top_tags).toDF(['Month', 'Rank', 'Hashtag','Number of Tweets'])"
   ]
  },
  {
   "cell_type": "code",
   "execution_count": null,
   "metadata": {
    "application/vnd.databricks.v1+cell": {
     "cellMetadata": {
      "byteLimit": 2048000,
      "rowLimit": 10000
     },
     "inputWidgets": {},
     "nuid": "09c8e47a-9eed-4782-bbeb-739ec3182c7a",
     "showTitle": false,
     "title": ""
    }
   },
   "outputs": [
    {
     "name": "stdout",
     "output_type": "stream",
     "text": [
      "+---------+----+-----------+----------------+\n",
      "|    Month|Rank|    Hashtag|Number of Tweets|\n",
      "+---------+----+-----------+----------------+\n",
      "|   August|   1|   #ipl2020|            1139|\n",
      "|   August|   2|       #ipl|             198|\n",
      "|   August|   3|   #dream11|             121|\n",
      "|   August|   4|       #csk|             117|\n",
      "|   August|   5|  #iplinuae|             112|\n",
      "|September|   1|   #ipl2020|           15742|\n",
      "|September|   2|       #ipl|            1466|\n",
      "|September|   3|       #csk|            1371|\n",
      "|September|   4|#dream11ipl|            1262|\n",
      "|September|   5|       #rcb|             910|\n",
      "|  October|   1|   #ipl2020|           12705|\n",
      "|  October|   2|       #csk|            1449|\n",
      "|  October|   3|#dream11ipl|            1206|\n",
      "|  October|   4|       #ipl|             996|\n",
      "|  October|   5|      #kxip|             868|\n",
      "| November|   1|   #ipl2020|            4786|\n",
      "| November|   2|        #mi|             637|\n",
      "| November|   3|  #iplfinal|             565|\n",
      "| November|   4|     #mivdc|             498|\n",
      "| November|   5|       #srh|             478|\n",
      "+---------+----+-----------+----------------+\n",
      "\n"
     ]
    }
   ],
   "source": [
    "# Displaying the above RDD containing the top 5 hashtag trends for different months\n",
    "# The results are in the format: Month, Rank, Hashtag, Number of Tweets\n",
    "top_tags_df.show()"
   ]
  },
  {
   "cell_type": "markdown",
   "metadata": {
    "application/vnd.databricks.v1+cell": {
     "cellMetadata": {},
     "inputWidgets": {},
     "nuid": "fc7fc8ee-21a2-4f79-8a22-d4903273b810",
     "showTitle": false,
     "title": ""
    }
   },
   "source": [
    "### Extracting the trends of tweets (number of tweets) for each team over different months. The results are as follows:\n",
    "\n",
    "a. Team name, month, number of tweets\n",
    "\n",
    "b. A list of abbreviated names of the teams can be used to filter tweets (e.g. CSK,\n",
    "MI, RCB etc.)\n"
   ]
  },
  {
   "cell_type": "code",
   "execution_count": null,
   "metadata": {
    "application/vnd.databricks.v1+cell": {
     "cellMetadata": {
      "byteLimit": 2048000,
      "rowLimit": 10000
     },
     "inputWidgets": {},
     "nuid": "e348d7ba-714d-4879-88b8-5b5b34fa77c6",
     "showTitle": false,
     "title": ""
    }
   },
   "outputs": [
    {
     "data": {
      "text/html": [
       "<style scoped>\n",
       "  .table-result-container {\n",
       "    max-height: 300px;\n",
       "    overflow: auto;\n",
       "  }\n",
       "  table, th, td {\n",
       "    border: 1px solid black;\n",
       "    border-collapse: collapse;\n",
       "  }\n",
       "  th, td {\n",
       "    padding: 5px;\n",
       "  }\n",
       "  th {\n",
       "    text-align: left;\n",
       "  }\n",
       "</style><div class='table-result-container'><table class='table-result'><thead style='background-color: white'><tr><th>path</th><th>name</th><th>size</th><th>modificationTime</th></tr></thead><tbody><tr><td>dbfs:/FileStore/tables/jio2025/Sample_tweets.csv</td><td>Sample_tweets.csv</td><td>13931877</td><td>1718129178000</td></tr></tbody></table></div>"
      ]
     },
     "metadata": {
      "application/vnd.databricks.v1+output": {
       "addedWidgets": {},
       "aggData": [],
       "aggError": "",
       "aggOverflow": false,
       "aggSchema": [],
       "aggSeriesLimitReached": false,
       "aggType": "",
       "arguments": {},
       "columnCustomDisplayInfos": {},
       "data": [
        [
         "dbfs:/FileStore/tables/jio2025/Sample_tweets.csv",
         "Sample_tweets.csv",
         13931877,
         1718129178000
        ]
       ],
       "datasetInfos": [],
       "dbfsResultPath": null,
       "isJsonSchema": true,
       "metadata": {
        "isDbfsCommandResult": false
       },
       "overflow": false,
       "plotOptions": {
        "customPlotOptions": {},
        "displayType": "table",
        "pivotAggregation": null,
        "pivotColumns": null,
        "xColumns": null,
        "yColumns": null
       },
       "removedWidgets": [],
       "schema": [
        {
         "metadata": "{}",
         "name": "path",
         "type": "\"string\""
        },
        {
         "metadata": "{}",
         "name": "name",
         "type": "\"string\""
        },
        {
         "metadata": "{}",
         "name": "size",
         "type": "\"long\""
        },
        {
         "metadata": "{}",
         "name": "modificationTime",
         "type": "\"long\""
        }
       ],
       "type": "table"
      }
     },
     "output_type": "display_data"
    }
   ],
   "source": [
    "%fs ls /FileStore/tables/jio2025/Sample_tweets.csv"
   ]
  },
  {
   "cell_type": "code",
   "execution_count": null,
   "metadata": {
    "application/vnd.databricks.v1+cell": {
     "cellMetadata": {
      "byteLimit": 2048000,
      "rowLimit": 10000
     },
     "inputWidgets": {},
     "nuid": "b8d69ee2-0dc2-49f0-8139-b16ee6964e64",
     "showTitle": false,
     "title": ""
    }
   },
   "outputs": [],
   "source": [
    "file_path = \"dbfs:/FileStore/tables/jio2025/Sample_tweets.csv\""
   ]
  },
  {
   "cell_type": "code",
   "execution_count": null,
   "metadata": {
    "application/vnd.databricks.v1+cell": {
     "cellMetadata": {
      "byteLimit": 2048000,
      "rowLimit": 10000
     },
     "inputWidgets": {},
     "nuid": "a760143a-f583-4ea9-bfc4-7d49ba8ede46",
     "showTitle": false,
     "title": ""
    }
   },
   "outputs": [],
   "source": [
    "# Importing the csv file and making sure to avoid the multiline issue due to improper misinterpretation\n",
    "tweets = spark.read \\\n",
    "    .option(\"header\", \"true\") \\\n",
    "    .option(\"multiLine\", \"true\") \\\n",
    "    .option(\"quote\", '\"') \\\n",
    "    .option(\"escape\", '\"') \\\n",
    "    .csv(file_path)"
   ]
  },
  {
   "cell_type": "code",
   "execution_count": null,
   "metadata": {
    "application/vnd.databricks.v1+cell": {
     "cellMetadata": {
      "byteLimit": 2048000,
      "rowLimit": 10000
     },
     "inputWidgets": {},
     "nuid": "15f28a0e-44a6-402d-97f3-beff797c7db2",
     "showTitle": false,
     "title": ""
    }
   },
   "outputs": [
    {
     "name": "stdout",
     "output_type": "stream",
     "text": [
      "Out[28]: [Row(_c0='0', user_name='Navaldeep Singh', text='Suresh raina has the best room out of all the players  #IPL2020', user_followers='1311', date='25-08-2020', user_location='Melbourne / New Delhi', source='Twitter for iPhone', user_description='#AppleFan #CricketAddict and a happy husband ☺️'),\n",
      " Row(_c0='1', user_name='Naseh Mohtesham', text='All of the Country is So Much into #IPL2020  This Year ...  \\nThanks @BCCI .. Best Decision To Host IPL This Year', user_followers='165', date='29-09-2020', user_location=None, source='Twitter for iPhone', user_description='MBA 👨\\u200d🎓, Cricket 🏏, Politics 💰, RCB Freak 🥰'),\n",
      " Row(_c0='2', user_name='Sports segment', text='#IPL2020 CSK win toss and bowl #IPL #RRvCSK', user_followers='3', date='22-09-2020', user_location=None, source='Twitter Web App', user_description='The official Account of https://t.co/pJmosdM65g'),\n",
      " Row(_c0='3', user_name='kamli kudi 🤪', text='Pooran 🔥🔥\\nFinally !! 🥳🥳💃💃\\n\\n#SaddaPunjab\\xa0 #IPL2020\\xa0 #KXIP\\xa0 #RCBvKXIP', user_followers='29', date='15-10-2020', user_location=None, source='Twitter for iPhone', user_description=None)]"
     ]
    }
   ],
   "source": [
    "tweets.take(4)"
   ]
  },
  {
   "cell_type": "code",
   "execution_count": null,
   "metadata": {
    "application/vnd.databricks.v1+cell": {
     "cellMetadata": {
      "byteLimit": 2048000,
      "rowLimit": 10000
     },
     "inputWidgets": {},
     "nuid": "efd7cdac-ffaa-416c-bb4d-cb46a7c630ff",
     "showTitle": false,
     "title": ""
    }
   },
   "outputs": [],
   "source": [
    "# Converting the RDD of row objects to RDD of lists to process the data better.\n",
    "tweets = tweets.rdd.map(list)"
   ]
  },
  {
   "cell_type": "code",
   "execution_count": null,
   "metadata": {
    "application/vnd.databricks.v1+cell": {
     "cellMetadata": {
      "byteLimit": 2048000,
      "rowLimit": 10000
     },
     "inputWidgets": {},
     "nuid": "994301e5-fbe6-4b54-ae16-ce48fa0cd7f4",
     "showTitle": false,
     "title": ""
    }
   },
   "outputs": [
    {
     "name": "stdout",
     "output_type": "stream",
     "text": [
      "Out[30]: [['0',\n",
      "  'Navaldeep Singh',\n",
      "  'Suresh raina has the best room out of all the players  #IPL2020',\n",
      "  '1311',\n",
      "  '25-08-2020',\n",
      "  'Melbourne / New Delhi',\n",
      "  'Twitter for iPhone',\n",
      "  '#AppleFan #CricketAddict and a happy husband ☺️'],\n",
      " ['1',\n",
      "  'Naseh Mohtesham',\n",
      "  'All of the Country is So Much into #IPL2020  This Year ...  \\nThanks @BCCI .. Best Decision To Host IPL This Year',\n",
      "  '165',\n",
      "  '29-09-2020',\n",
      "  None,\n",
      "  'Twitter for iPhone',\n",
      "  'MBA 👨\\u200d🎓, Cricket 🏏, Politics 💰, RCB Freak 🥰'],\n",
      " ['2',\n",
      "  'Sports segment',\n",
      "  '#IPL2020 CSK win toss and bowl #IPL #RRvCSK',\n",
      "  '3',\n",
      "  '22-09-2020',\n",
      "  None,\n",
      "  'Twitter Web App',\n",
      "  'The official Account of https://t.co/pJmosdM65g'],\n",
      " ['3',\n",
      "  'kamli kudi 🤪',\n",
      "  'Pooran 🔥🔥\\nFinally !! 🥳🥳💃💃\\n\\n#SaddaPunjab\\xa0 #IPL2020\\xa0 #KXIP\\xa0 #RCBvKXIP',\n",
      "  '29',\n",
      "  '15-10-2020',\n",
      "  None,\n",
      "  'Twitter for iPhone',\n",
      "  None],\n",
      " ['4',\n",
      "  'Himanshu Dixit',\n",
      "  'every delhi capital fan.....right now!😆\\n\\n#IPL2020 #IPL2020playoffs #today #TrendingNow #viralnews #ViralVideo… https://t.co/vWYepDfDph',\n",
      "  '5',\n",
      "  '05-11-2020',\n",
      "  None,\n",
      "  'Twitter Web App',\n",
      "  'Thanks God, for a Creative Mind.....'],\n",
      " ['5',\n",
      "  'CricTracker',\n",
      "  \"Shikhar Dhawan's century takes DC to a decent total. #IPL #IPL2020 #KXIPvsDC\\n\\n(📷:  IPL/BCCI) https://t.co/JodBi6z3lu\",\n",
      "  '139300',\n",
      "  '20-10-2020',\n",
      "  'India',\n",
      "  'Twitter Web App',\n",
      "  'Follow CricTracker for the latest News | Previews | Reviews | Videos | Fantasy Tips | Stats | Interviews and more. https://t.co/S4jp2QGVks'],\n",
      " ['6',\n",
      "  'Wisden India',\n",
      "  'Shreyas Iyer has won the toss and Delhi Capitals will bowl first in Abu Dhabi!\\n\\n#KKRvDC | #IPL2020 https://t.co/0WG3GbqYql',\n",
      "  '844025',\n",
      "  '24-10-2020',\n",
      "  None,\n",
      "  'TweetDeck',\n",
      "  'The independent voice of Indian cricket. For more from Wisden, check out @WisdenCricket'],\n",
      " ['7',\n",
      "  'Stat Doctor🩺',\n",
      "  'Sanju Samson has the most sixes in #IPL2020 \\n\\nRajasthan Royals have also hit the most sixes by any team in this sea… https://t.co/7JiKv7zUqo',\n",
      "  '1817',\n",
      "  '17-10-2020',\n",
      "  None,\n",
      "  'Twitter for Android',\n",
      "  'Cricket Statistics Discussions.\\n\\nRun by @CricXtasy'],\n",
      " ['8',\n",
      "  'Ankeet Kumar Hanny',\n",
      "  '@RCBTweets lost to @klrahul11 by 23 runs!!\\n#ipl2020 #KXIPvsRCB',\n",
      "  '163',\n",
      "  '24-09-2020',\n",
      "  'Bengaluru, India',\n",
      "  'Twitter for Android',\n",
      "  'I’ve learnt that I don’t know anything.\\xa0Have also learnt that people will pay me for what I know.\\nLife is good. 😆😇'],\n",
      " ['9',\n",
      "  'Anubhav Sachdeva',\n",
      "  'Sharjah is too random. Fun to watch for neutrals, but I fear it will wear off very soon. #IPL2020 https://t.co/MqepEpnGGz',\n",
      "  '146',\n",
      "  '03-10-2020',\n",
      "  'New Delhi, India & Anfield.',\n",
      "  'Twitter for Android',\n",
      "  'Student. Liverpool FC, Delhi Daredevils and WWE fan. Alternating between football, music and food in life. And occasionally studying.']]"
     ]
    }
   ],
   "source": [
    "tweets.take(10)"
   ]
  },
  {
   "cell_type": "code",
   "execution_count": null,
   "metadata": {
    "application/vnd.databricks.v1+cell": {
     "cellMetadata": {
      "byteLimit": 2048000,
      "rowLimit": 10000
     },
     "inputWidgets": {},
     "nuid": "65529297-da6e-4a90-8508-fd325617c552",
     "showTitle": false,
     "title": ""
    }
   },
   "outputs": [
    {
     "name": "stdout",
     "output_type": "stream",
     "text": [
      "+---------+----+-----+\n",
      "|    month|team|count|\n",
      "+---------+----+-----+\n",
      "|   August|  mi|  429|\n",
      "|   August|  rr|  136|\n",
      "|   August| rcb|  187|\n",
      "|   August| csk|  224|\n",
      "|   August|  gt|   35|\n",
      "|   August|kxip|   43|\n",
      "|   August| kkr|   56|\n",
      "|   August|  dc|   46|\n",
      "|   August| srh|   26|\n",
      "|September| csk| 3842|\n",
      "|September|  rr| 3628|\n",
      "|September|kxip| 2907|\n",
      "|September| rcb| 4150|\n",
      "|September|  mi| 6182|\n",
      "|September|  dc| 1949|\n",
      "|September| srh| 1959|\n",
      "|September| kkr| 2089|\n",
      "|September|  gt|  272|\n",
      "|September| lsg|    3|\n",
      "|  October|kxip| 2836|\n",
      "|  October| rcb| 2886|\n",
      "|  October|  dc| 2775|\n",
      "|  October| kkr| 2232|\n",
      "|  October|  rr| 3447|\n",
      "|  October| csk| 3945|\n",
      "|  October|  mi| 4584|\n",
      "|  October|  gt|  250|\n",
      "|  October| srh| 2425|\n",
      "|  October| lsg|    5|\n",
      "| November|  rr|  296|\n",
      "| November|  dc| 2089|\n",
      "| November| rcb| 1313|\n",
      "| November|  mi| 3000|\n",
      "| November| srh| 1609|\n",
      "| November|kxip|   56|\n",
      "| November| kkr|  199|\n",
      "| November|  gt|   74|\n",
      "| November| csk|  124|\n",
      "| November| lsg|    2|\n",
      "+---------+----+-----+\n",
      "\n"
     ]
    }
   ],
   "source": [
    "from pyspark.sql import Row\n",
    "from datetime import datetime\n",
    "\n",
    "teams = [\"rcb\",\"csk\",\"mi\",\"srh\",\"kkr\",\"dc\",\"kxip\",\"rr\",\"lsg\",\"gt\"]\n",
    "\n",
    "# Used to filter the tweets related to a particular months only\n",
    "def month_only(line,x):\n",
    "    date_object = datetime.strptime(line[4], \"%d-%m-%Y\")\n",
    "    if date_object.month == x:\n",
    "        return True\n",
    "    return False\n",
    "\n",
    "# Used to lowercase the line\n",
    "def lowercasing(line):\n",
    "    return line[2].lower()\n",
    "\n",
    "# Extracts the teams from each records\n",
    "def extract(line):\n",
    "    # We used a set so that from each line we get a unique team name\n",
    "    set_ = set()\n",
    "    for team in teams:\n",
    "        if team in line:\n",
    "            set_.add((team,1))\n",
    "    return set_\n",
    "\n",
    "\n",
    "data = []\n",
    "\n",
    "# Maps the month number to month in words\n",
    "months = {\n",
    "    8 : \"August\",\n",
    "    9 : \"September\",\n",
    "    10 : \"October\",\n",
    "    11: \"November\"\n",
    "}\n",
    "\n",
    "# Looping thorugh all the months and adding the data to a list \"data\"\n",
    "for i in range(8,12):\n",
    "    # Here we find the number of tweets for each team for each month\n",
    "    team_counts = (tweets.filter(lambda line:month_only(line,i))\n",
    "                   .map(lambda line: lowercasing(line))\n",
    "                   .flatMap(lambda line:extract(line))\n",
    "                   .reduceByKey(lambda a, b: a+b)\n",
    "                   .map(lambda x: Row(month= months.get(i), team=x[0], count=x[1])).collect())\n",
    "\n",
    "    # Here we add the team_counts for each month in a final \"data\" list \n",
    "    data.extend(team_counts)\n",
    "\n",
    "# Create DataFrame from collected rows\n",
    "df = spark.createDataFrame(data)\n",
    "df.show(50)"
   ]
  },
  {
   "cell_type": "markdown",
   "metadata": {
    "application/vnd.databricks.v1+cell": {
     "cellMetadata": {},
     "inputWidgets": {},
     "nuid": "53b2402e-d140-48fb-948c-68dc67de5e92",
     "showTitle": false,
     "title": ""
    }
   },
   "source": [
    "### Identify the top 5 tweets for each hashtag, ordered by the number of followers the users have, who have tweeted. It should contain unique set of users. The result should contain:\n",
    "\n",
    "a. Hashtag, list of 5 tweets, the username who has tweeted and the number of\n",
    "followers."
   ]
  },
  {
   "cell_type": "code",
   "execution_count": null,
   "metadata": {
    "application/vnd.databricks.v1+cell": {
     "cellMetadata": {
      "byteLimit": 2048000,
      "rowLimit": 10000
     },
     "inputWidgets": {},
     "nuid": "7b78e13e-7cdc-4f6a-a43e-638415bf4492",
     "showTitle": false,
     "title": ""
    }
   },
   "outputs": [
    {
     "name": "stdout",
     "output_type": "stream",
     "text": [
      "+--------+-------------------+---------+--------------------+\n",
      "| hashtag|          user_name|followers|               tweet|\n",
      "+--------+-------------------+---------+--------------------+\n",
      "|#ipl2020|   Sachin Tendulkar| 34065868|&amp; a fantastic...|\n",
      "|#ipl2020|               NDTV| 13595550|Watch | Chennai S...|\n",
      "|#ipl2020| The Times Of India| 13041202|#IPL #IPL2020 \\n\\...|\n",
      "|#ipl2020|           ABP News| 10332613|Faf du Plessis Bl...|\n",
      "|#ipl2020|          TIMES NOW|  9824665|#IPL2020 | #Rajas...|\n",
      "|    #ipl| The Times Of India| 13041202|#IPL #IPL2020 \\n\\...|\n",
      "|    #ipl|           ABP News| 10530422|#IPL2020, RCB vs ...|\n",
      "|    #ipl|          TIMES NOW|  9824665|#IPL2020 | #Rajas...|\n",
      "|    #ipl|         IndiaToday|  5366232|I am going to mis...|\n",
      "|    #ipl|           Cricbuzz|  4325531|#CSK  win toss an...|\n",
      "| #rrvcsk|IndianPremierLeague|  5403687|Match 4. 4.6: S G...|\n",
      "| #rrvcsk|           Cricbuzz|  4325531|#CSK  win toss an...|\n",
      "| #rrvcsk|                DNA|  2193946|#IPL2020kaDNA: 50...|\n",
      "| #rrvcsk|        CricketNDTV|  1786789|FOUR! Kedar Jadha...|\n",
      "| #rrvcsk|   Rajasthan Royals|  1232624|Air Samson. ✈️\\n\\...|\n",
      "|   #kxip|       ESPNcricinfo|  5897667|Can #KXIP take ho...|\n",
      "|   #kxip|         IndiaToday|  5398196|Sunil Gavaskar pr...|\n",
      "|   #kxip|           Cricbuzz|  4326734|#RCB and #KXIP mi...|\n",
      "|   #kxip|      Aakash Chopra|  3166497|Mayank-Rahul: The...|\n",
      "|   #kxip|    Kings XI Punjab|      204|It's Veer vs Zara...|\n",
      "+--------+-------------------+---------+--------------------+\n",
      "only showing top 20 rows\n",
      "\n"
     ]
    }
   ],
   "source": [
    "from collections import OrderedDict\n",
    "\n",
    "data = []\n",
    "\n",
    "# Extracting key value pairs where key is all the hashtags and value is list of username, followers and tweet text\n",
    "def preprocess(line):\n",
    "    textt = line[2].split()\n",
    "    h = [(t.lower(),(line[3],line[1],line[2])) for t in textt if t.startswith(\"#\")]\n",
    "    return list(set(h))\n",
    "\n",
    "# Creating a row object to eventually add to the dataframe we display as output\n",
    "def func(val,hashtag):\n",
    "    return Row(hashtag = hashtag, user_name = val[1],followers = val[0],tweet = val[2]) # Here we are creating a single row object \n",
    "\n",
    "sorted_tweets_hashtags = (tweets.flatMap(lambda line: preprocess(line))\n",
    "                   .groupByKey().mapValues(\n",
    "                    lambda x: list(OrderedDict((y[1], y) for y in sorted(x, key=lambda y: int(y[0]), reverse=True)).values())[:5] # Here we sort the value of each key based on followers of the user and also making sure that each value of each keys are unique. If we used set then the order would have changed hence we used OrderedDict\n",
    "                    ))\n",
    "# Creating dataframe to show the output \n",
    "for key, group_values in sorted_tweets_hashtags.collect(): \n",
    "    group_val = list(map(lambda x: func(x, key), group_values))\n",
    "    data.extend(group_val)\n",
    "\n",
    "# Create DataFrame from collected rows\n",
    "df = spark.createDataFrame(data)\n",
    "df.show()"
   ]
  },
  {
   "cell_type": "markdown",
   "metadata": {
    "application/vnd.databricks.v1+cell": {
     "cellMetadata": {},
     "inputWidgets": {},
     "nuid": "7b849081-d2aa-471b-bd32-6b74fd649b55",
     "showTitle": false,
     "title": ""
    }
   },
   "source": [
    "### Create an inverted index of hashtags and the tweets so that given a hashtag, you can print the list of tweets with the hashtags sorted by the months. The result should contain\n",
    "\n",
    "a. Hashtag, month, list of tweets (actual text)"
   ]
  },
  {
   "cell_type": "markdown",
   "metadata": {
    "application/vnd.databricks.v1+cell": {
     "cellMetadata": {},
     "inputWidgets": {},
     "nuid": "db3249c6-e720-441f-816d-d8da0241c08e",
     "showTitle": false,
     "title": ""
    }
   },
   "source": [
    "Creating, displaying and storing tweets in PySpark RDD"
   ]
  },
  {
   "cell_type": "code",
   "execution_count": null,
   "metadata": {
    "application/vnd.databricks.v1+cell": {
     "cellMetadata": {
      "byteLimit": 2048000,
      "rowLimit": 10000
     },
     "inputWidgets": {},
     "nuid": "cd5f6e69-d04b-4992-bccb-f4230b634846",
     "showTitle": false,
     "title": ""
    }
   },
   "outputs": [],
   "source": [
    "# Storing the file path in variable\n",
    "file_path = \"/FileStore/tables/jio2025/Sample_tweets.csv\""
   ]
  },
  {
   "cell_type": "code",
   "execution_count": null,
   "metadata": {
    "application/vnd.databricks.v1+cell": {
     "cellMetadata": {
      "byteLimit": 2048000,
      "rowLimit": 10000
     },
     "inputWidgets": {},
     "nuid": "089f7a29-a1c3-4ae1-990e-ec5ce5b53841",
     "showTitle": false,
     "title": ""
    }
   },
   "outputs": [],
   "source": [
    "# Reading the csv file in pyspark RDD object\n",
    "sample_tweets = spark.read \\\n",
    "    .option(\"header\", \"true\") \\\n",
    "    .option(\"multiLine\", \"true\") \\\n",
    "    .option(\"quote\", '\"') \\\n",
    "    .option(\"escape\", '\"') \\\n",
    "    .csv(file_path)"
   ]
  },
  {
   "cell_type": "code",
   "execution_count": null,
   "metadata": {
    "application/vnd.databricks.v1+cell": {
     "cellMetadata": {
      "byteLimit": 2048000,
      "rowLimit": 10000
     },
     "inputWidgets": {},
     "nuid": "2dbf6de0-0a0d-4179-81ce-318a3a81e2e4",
     "showTitle": false,
     "title": ""
    }
   },
   "outputs": [
    {
     "name": "stdout",
     "output_type": "stream",
     "text": [
      "Out[36]: [Row(_c0='0', user_name='Navaldeep Singh', text='Suresh raina has the best room out of all the players  #IPL2020', user_followers='1311', date='25-08-2020', user_location='Melbourne / New Delhi', source='Twitter for iPhone', user_description='#AppleFan #CricketAddict and a happy husband ☺️'),\n",
      " Row(_c0='1', user_name='Naseh Mohtesham', text='All of the Country is So Much into #IPL2020  This Year ...  \\nThanks @BCCI .. Best Decision To Host IPL This Year', user_followers='165', date='29-09-2020', user_location=None, source='Twitter for iPhone', user_description='MBA 👨\\u200d🎓, Cricket 🏏, Politics 💰, RCB Freak 🥰'),\n",
      " Row(_c0='2', user_name='Sports segment', text='#IPL2020 CSK win toss and bowl #IPL #RRvCSK', user_followers='3', date='22-09-2020', user_location=None, source='Twitter Web App', user_description='The official Account of https://t.co/pJmosdM65g'),\n",
      " Row(_c0='3', user_name='kamli kudi 🤪', text='Pooran 🔥🔥\\nFinally !! 🥳🥳💃💃\\n\\n#SaddaPunjab\\xa0 #IPL2020\\xa0 #KXIP\\xa0 #RCBvKXIP', user_followers='29', date='15-10-2020', user_location=None, source='Twitter for iPhone', user_description=None),\n",
      " Row(_c0='4', user_name='Himanshu Dixit', text='every delhi capital fan.....right now!😆\\n\\n#IPL2020 #IPL2020playoffs #today #TrendingNow #viralnews #ViralVideo… https://t.co/vWYepDfDph', user_followers='5', date='05-11-2020', user_location=None, source='Twitter Web App', user_description='Thanks God, for a Creative Mind.....'),\n",
      " Row(_c0='5', user_name='CricTracker', text=\"Shikhar Dhawan's century takes DC to a decent total. #IPL #IPL2020 #KXIPvsDC\\n\\n(📷:  IPL/BCCI) https://t.co/JodBi6z3lu\", user_followers='139300', date='20-10-2020', user_location='India', source='Twitter Web App', user_description='Follow CricTracker for the latest News | Previews | Reviews | Videos | Fantasy Tips | Stats | Interviews and more. https://t.co/S4jp2QGVks'),\n",
      " Row(_c0='6', user_name='Wisden India', text='Shreyas Iyer has won the toss and Delhi Capitals will bowl first in Abu Dhabi!\\n\\n#KKRvDC | #IPL2020 https://t.co/0WG3GbqYql', user_followers='844025', date='24-10-2020', user_location=None, source='TweetDeck', user_description='The independent voice of Indian cricket. For more from Wisden, check out @WisdenCricket'),\n",
      " Row(_c0='7', user_name='Stat Doctor🩺', text='Sanju Samson has the most sixes in #IPL2020 \\n\\nRajasthan Royals have also hit the most sixes by any team in this sea… https://t.co/7JiKv7zUqo', user_followers='1817', date='17-10-2020', user_location=None, source='Twitter for Android', user_description='Cricket Statistics Discussions.\\n\\nRun by @CricXtasy'),\n",
      " Row(_c0='8', user_name='Ankeet Kumar Hanny', text='@RCBTweets lost to @klrahul11 by 23 runs!!\\n#ipl2020 #KXIPvsRCB', user_followers='163', date='24-09-2020', user_location='Bengaluru, India', source='Twitter for Android', user_description='I’ve learnt that I don’t know anything.\\xa0Have also learnt that people will pay me for what I know.\\nLife is good. 😆😇'),\n",
      " Row(_c0='9', user_name='Anubhav Sachdeva', text='Sharjah is too random. Fun to watch for neutrals, but I fear it will wear off very soon. #IPL2020 https://t.co/MqepEpnGGz', user_followers='146', date='03-10-2020', user_location='New Delhi, India & Anfield.', source='Twitter for Android', user_description='Student. Liverpool FC, Delhi Daredevils and WWE fan. Alternating between football, music and food in life. And occasionally studying.')]"
     ]
    }
   ],
   "source": [
    "# Displaying the first 10 rows stored in the RDD object\n",
    "sample_tweets.take(10)"
   ]
  },
  {
   "cell_type": "code",
   "execution_count": null,
   "metadata": {
    "application/vnd.databricks.v1+cell": {
     "cellMetadata": {
      "byteLimit": 2048000,
      "rowLimit": 10000
     },
     "inputWidgets": {},
     "nuid": "0c6530bb-70ff-4263-9125-e35b453d029e",
     "showTitle": false,
     "title": ""
    }
   },
   "outputs": [],
   "source": [
    "# Dropping the unimportant columns\n",
    "sample_tweets = sample_tweets.drop('_c0','user_name','user_followers','user_location','source','user_description')"
   ]
  },
  {
   "cell_type": "code",
   "execution_count": null,
   "metadata": {
    "application/vnd.databricks.v1+cell": {
     "cellMetadata": {
      "byteLimit": 2048000,
      "rowLimit": 10000
     },
     "inputWidgets": {},
     "nuid": "32f47a0a-b43b-46a3-b422-0a693c829788",
     "showTitle": false,
     "title": ""
    }
   },
   "outputs": [
    {
     "name": "stdout",
     "output_type": "stream",
     "text": [
      "Out[38]: [Row(text='Suresh raina has the best room out of all the players  #IPL2020', date='25-08-2020'),\n",
      " Row(text='All of the Country is So Much into #IPL2020  This Year ...  \\nThanks @BCCI .. Best Decision To Host IPL This Year', date='29-09-2020'),\n",
      " Row(text='#IPL2020 CSK win toss and bowl #IPL #RRvCSK', date='22-09-2020'),\n",
      " Row(text='Pooran 🔥🔥\\nFinally !! 🥳🥳💃💃\\n\\n#SaddaPunjab\\xa0 #IPL2020\\xa0 #KXIP\\xa0 #RCBvKXIP', date='15-10-2020'),\n",
      " Row(text='every delhi capital fan.....right now!😆\\n\\n#IPL2020 #IPL2020playoffs #today #TrendingNow #viralnews #ViralVideo… https://t.co/vWYepDfDph', date='05-11-2020'),\n",
      " Row(text=\"Shikhar Dhawan's century takes DC to a decent total. #IPL #IPL2020 #KXIPvsDC\\n\\n(📷:  IPL/BCCI) https://t.co/JodBi6z3lu\", date='20-10-2020'),\n",
      " Row(text='Shreyas Iyer has won the toss and Delhi Capitals will bowl first in Abu Dhabi!\\n\\n#KKRvDC | #IPL2020 https://t.co/0WG3GbqYql', date='24-10-2020'),\n",
      " Row(text='Sanju Samson has the most sixes in #IPL2020 \\n\\nRajasthan Royals have also hit the most sixes by any team in this sea… https://t.co/7JiKv7zUqo', date='17-10-2020'),\n",
      " Row(text='@RCBTweets lost to @klrahul11 by 23 runs!!\\n#ipl2020 #KXIPvsRCB', date='24-09-2020'),\n",
      " Row(text='Sharjah is too random. Fun to watch for neutrals, but I fear it will wear off very soon. #IPL2020 https://t.co/MqepEpnGGz', date='03-10-2020')]"
     ]
    }
   ],
   "source": [
    "# Displaying the new modified RDD object\n",
    "sample_tweets.take(10)"
   ]
  },
  {
   "cell_type": "code",
   "execution_count": null,
   "metadata": {
    "application/vnd.databricks.v1+cell": {
     "cellMetadata": {
      "byteLimit": 2048000,
      "rowLimit": 10000
     },
     "inputWidgets": {},
     "nuid": "aba5e64e-7676-4a28-9253-93c2b5b3f6c1",
     "showTitle": false,
     "title": ""
    }
   },
   "outputs": [
    {
     "name": "stdout",
     "output_type": "stream",
     "text": [
      "Out[39]: 50000"
     ]
    }
   ],
   "source": [
    "# Count the total number of rows in the dataframe\n",
    "sample_tweets.count()"
   ]
  },
  {
   "cell_type": "code",
   "execution_count": null,
   "metadata": {
    "application/vnd.databricks.v1+cell": {
     "cellMetadata": {
      "byteLimit": 2048000,
      "rowLimit": 10000
     },
     "inputWidgets": {},
     "nuid": "c1f6e771-cc1c-4a8c-bbb3-d2512db9549c",
     "showTitle": false,
     "title": ""
    }
   },
   "outputs": [],
   "source": [
    "# Converting RDD object to dataframe for storing list\n",
    "sample_tweets = sample_tweets.rdd.map(list)"
   ]
  },
  {
   "cell_type": "code",
   "execution_count": null,
   "metadata": {
    "application/vnd.databricks.v1+cell": {
     "cellMetadata": {
      "byteLimit": 2048000,
      "rowLimit": 10000
     },
     "inputWidgets": {},
     "nuid": "193cd78f-1fb0-42bf-9427-e8e1ace0b06b",
     "showTitle": false,
     "title": ""
    }
   },
   "outputs": [
    {
     "name": "stdout",
     "output_type": "stream",
     "text": [
      "Out[41]: [['Suresh raina has the best room out of all the players  #IPL2020',\n",
      "  '25-08-2020'],\n",
      " ['All of the Country is So Much into #IPL2020  This Year ...  \\nThanks @BCCI .. Best Decision To Host IPL This Year',\n",
      "  '29-09-2020'],\n",
      " ['#IPL2020 CSK win toss and bowl #IPL #RRvCSK', '22-09-2020'],\n",
      " ['Pooran 🔥🔥\\nFinally !! 🥳🥳💃💃\\n\\n#SaddaPunjab\\xa0 #IPL2020\\xa0 #KXIP\\xa0 #RCBvKXIP',\n",
      "  '15-10-2020'],\n",
      " ['every delhi capital fan.....right now!😆\\n\\n#IPL2020 #IPL2020playoffs #today #TrendingNow #viralnews #ViralVideo… https://t.co/vWYepDfDph',\n",
      "  '05-11-2020']]"
     ]
    }
   ],
   "source": [
    "# Displaying the first 5 rows of the dataframe\n",
    "sample_tweets.take(5)"
   ]
  },
  {
   "cell_type": "markdown",
   "metadata": {
    "application/vnd.databricks.v1+cell": {
     "cellMetadata": {},
     "inputWidgets": {},
     "nuid": "e11a6f11-25cd-4686-9c4d-344998fabfd4",
     "showTitle": false,
     "title": ""
    }
   },
   "source": [
    "Transforming every tweet into a list of text, tags and month and storing it in a RDD object"
   ]
  },
  {
   "cell_type": "code",
   "execution_count": null,
   "metadata": {
    "application/vnd.databricks.v1+cell": {
     "cellMetadata": {
      "byteLimit": 2048000,
      "rowLimit": 10000
     },
     "inputWidgets": {},
     "nuid": "4cc7cccf-9197-4015-b746-8fc437e5fcfc",
     "showTitle": false,
     "title": ""
    }
   },
   "outputs": [],
   "source": [
    "import re\n",
    "\n",
    "# Function to find unique tags from every tweet\n",
    "def unique_hashtag(tweet_text):\n",
    "  h = tweet_text.split()\n",
    "\n",
    "  # Choosing only the words starting with # for tags\n",
    "  h = list(filter(lambda word: word.startswith('#'),h))\n",
    "\n",
    "  # Converting every tag into lowercase, removing punctuations and emojis and assigning count 1 to it.\n",
    "  # Only unique tags used in every tweet is returned in the list of tags for that tweet\n",
    "  h = list(set(map(lambda word: ('#' + re.sub('[\\W_]+', '', word.lower())),h)) - {'#'})\n",
    "  return h"
   ]
  },
  {
   "cell_type": "code",
   "execution_count": null,
   "metadata": {
    "application/vnd.databricks.v1+cell": {
     "cellMetadata": {
      "byteLimit": 2048000,
      "rowLimit": 10000
     },
     "inputWidgets": {},
     "nuid": "c89c381f-cc9d-4845-884d-b668c0b81c75",
     "showTitle": false,
     "title": ""
    }
   },
   "outputs": [],
   "source": [
    "# Function to return the month of tweet\n",
    "def month_tweet(tweet):\n",
    "    tweet_date = tweet.split('-')\n",
    "    return int(tweet_date[1])"
   ]
  },
  {
   "cell_type": "code",
   "execution_count": null,
   "metadata": {
    "application/vnd.databricks.v1+cell": {
     "cellMetadata": {
      "byteLimit": 2048000,
      "rowLimit": 10000
     },
     "inputWidgets": {},
     "nuid": "2fc211cc-57d5-463b-bf01-f95375eb2879",
     "showTitle": false,
     "title": ""
    }
   },
   "outputs": [],
   "source": [
    "# Function to return the text, unique tags and month of the tweet as a list\n",
    "def text_tag_month(tweet):\n",
    "    #print(tweet)\n",
    "    text = tweet[0]\n",
    "    tags = unique_hashtag(tweet[0])\n",
    "    month = month_tweet(tweet[1])\n",
    "    return [text,tags,month]\n"
   ]
  },
  {
   "cell_type": "code",
   "execution_count": null,
   "metadata": {
    "application/vnd.databricks.v1+cell": {
     "cellMetadata": {
      "byteLimit": 2048000,
      "rowLimit": 10000
     },
     "inputWidgets": {},
     "nuid": "4c5c9048-770e-4fb4-8ad1-6979967910e2",
     "showTitle": false,
     "title": ""
    }
   },
   "outputs": [],
   "source": [
    "# RDD object storing every transformed tweet\n",
    "st = sample_tweets.map(lambda tweet: text_tag_month(tweet))"
   ]
  },
  {
   "cell_type": "code",
   "execution_count": null,
   "metadata": {
    "application/vnd.databricks.v1+cell": {
     "cellMetadata": {
      "byteLimit": 2048000,
      "rowLimit": 10000
     },
     "inputWidgets": {},
     "nuid": "ca2751a8-8db3-4368-8da7-2b58fa03b8fa",
     "showTitle": false,
     "title": ""
    }
   },
   "outputs": [
    {
     "name": "stdout",
     "output_type": "stream",
     "text": [
      "Out[46]: [['Suresh raina has the best room out of all the players  #IPL2020',\n",
      "  ['#ipl2020'],\n",
      "  8],\n",
      " ['All of the Country is So Much into #IPL2020  This Year ...  \\nThanks @BCCI .. Best Decision To Host IPL This Year',\n",
      "  ['#ipl2020'],\n",
      "  9],\n",
      " ['#IPL2020 CSK win toss and bowl #IPL #RRvCSK',\n",
      "  ['#ipl2020', '#rrvcsk', '#ipl'],\n",
      "  9],\n",
      " ['Pooran 🔥🔥\\nFinally !! 🥳🥳💃💃\\n\\n#SaddaPunjab\\xa0 #IPL2020\\xa0 #KXIP\\xa0 #RCBvKXIP',\n",
      "  ['#kxip', '#rcbvkxip', '#saddapunjab', '#ipl2020'],\n",
      "  10],\n",
      " ['every delhi capital fan.....right now!😆\\n\\n#IPL2020 #IPL2020playoffs #today #TrendingNow #viralnews #ViralVideo… https://t.co/vWYepDfDph',\n",
      "  ['#viralnews',\n",
      "   '#trendingnow',\n",
      "   '#viralvideo',\n",
      "   '#today',\n",
      "   '#ipl2020playoffs',\n",
      "   '#ipl2020'],\n",
      "  11]]"
     ]
    }
   ],
   "source": [
    "# Displaying first 5 rows of the RDD object\n",
    "st.take(5)"
   ]
  },
  {
   "cell_type": "markdown",
   "metadata": {
    "application/vnd.databricks.v1+cell": {
     "cellMetadata": {},
     "inputWidgets": {},
     "nuid": "b710efdb-29ab-4d3d-934e-5e88d905cb3c",
     "showTitle": false,
     "title": ""
    }
   },
   "source": [
    "Creating an inverted index for every tag used in the tweets"
   ]
  },
  {
   "cell_type": "code",
   "execution_count": null,
   "metadata": {
    "application/vnd.databricks.v1+cell": {
     "cellMetadata": {
      "byteLimit": 2048000,
      "rowLimit": 10000
     },
     "inputWidgets": {},
     "nuid": "af7d0161-a1fb-4b77-960d-347c9f7bfbcb",
     "showTitle": false,
     "title": ""
    }
   },
   "outputs": [],
   "source": [
    "# Function to map and trace back every tag of a tweet back to the tweet's text and the tweet's month\n",
    "def unigram(text,tags,month):\n",
    "    return [(tag,text,month) for tag in tags]"
   ]
  },
  {
   "cell_type": "code",
   "execution_count": null,
   "metadata": {
    "application/vnd.databricks.v1+cell": {
     "cellMetadata": {
      "byteLimit": 2048000,
      "rowLimit": 10000
     },
     "inputWidgets": {},
     "nuid": "8b39771e-dba9-44fe-9efc-af193490956e",
     "showTitle": false,
     "title": ""
    }
   },
   "outputs": [],
   "source": [
    "# Storing the output of unigram function for all the tweets in the form of RDD object\n",
    "st_index = st.flatMap(lambda tweet: unigram(tweet[0],tweet[1],tweet[2]))"
   ]
  },
  {
   "cell_type": "code",
   "execution_count": null,
   "metadata": {
    "application/vnd.databricks.v1+cell": {
     "cellMetadata": {
      "byteLimit": 2048000,
      "rowLimit": 10000
     },
     "inputWidgets": {},
     "nuid": "b1cc8864-df1a-4031-81ed-3f913c26eccd",
     "showTitle": false,
     "title": ""
    }
   },
   "outputs": [
    {
     "name": "stdout",
     "output_type": "stream",
     "text": [
      "Out[49]: [('#ipl2020',\n",
      "  'Suresh raina has the best room out of all the players  #IPL2020',\n",
      "  8),\n",
      " ('#ipl2020',\n",
      "  'All of the Country is So Much into #IPL2020  This Year ...  \\nThanks @BCCI .. Best Decision To Host IPL This Year',\n",
      "  9),\n",
      " ('#ipl2020', '#IPL2020 CSK win toss and bowl #IPL #RRvCSK', 9),\n",
      " ('#rrvcsk', '#IPL2020 CSK win toss and bowl #IPL #RRvCSK', 9),\n",
      " ('#ipl', '#IPL2020 CSK win toss and bowl #IPL #RRvCSK', 9),\n",
      " ('#kxip',\n",
      "  'Pooran 🔥🔥\\nFinally !! 🥳🥳💃💃\\n\\n#SaddaPunjab\\xa0 #IPL2020\\xa0 #KXIP\\xa0 #RCBvKXIP',\n",
      "  10),\n",
      " ('#rcbvkxip',\n",
      "  'Pooran 🔥🔥\\nFinally !! 🥳🥳💃💃\\n\\n#SaddaPunjab\\xa0 #IPL2020\\xa0 #KXIP\\xa0 #RCBvKXIP',\n",
      "  10),\n",
      " ('#saddapunjab',\n",
      "  'Pooran 🔥🔥\\nFinally !! 🥳🥳💃💃\\n\\n#SaddaPunjab\\xa0 #IPL2020\\xa0 #KXIP\\xa0 #RCBvKXIP',\n",
      "  10),\n",
      " ('#ipl2020',\n",
      "  'Pooran 🔥🔥\\nFinally !! 🥳🥳💃💃\\n\\n#SaddaPunjab\\xa0 #IPL2020\\xa0 #KXIP\\xa0 #RCBvKXIP',\n",
      "  10),\n",
      " ('#viralnews',\n",
      "  'every delhi capital fan.....right now!😆\\n\\n#IPL2020 #IPL2020playoffs #today #TrendingNow #viralnews #ViralVideo… https://t.co/vWYepDfDph',\n",
      "  11)]"
     ]
    }
   ],
   "source": [
    "# Displaying the first 10 rows of the RDD object\n",
    "st_index.take(10)"
   ]
  },
  {
   "cell_type": "code",
   "execution_count": null,
   "metadata": {
    "application/vnd.databricks.v1+cell": {
     "cellMetadata": {
      "byteLimit": 2048000,
      "rowLimit": 10000
     },
     "inputWidgets": {},
     "nuid": "f29d3fa9-d647-421d-ba00-a836c0f871dc",
     "showTitle": false,
     "title": ""
    }
   },
   "outputs": [],
   "source": [
    "# Converting the RDD object to dataframe and applying the header for the columns respectively\n",
    "st_index = st_index.toDF(['Hashtag','Tweet','Month'])"
   ]
  },
  {
   "cell_type": "code",
   "execution_count": null,
   "metadata": {
    "application/vnd.databricks.v1+cell": {
     "cellMetadata": {
      "byteLimit": 2048000,
      "rowLimit": 10000
     },
     "inputWidgets": {},
     "nuid": "148ca510-4f68-4570-b940-b4c253c800a5",
     "showTitle": false,
     "title": ""
    }
   },
   "outputs": [
    {
     "name": "stdout",
     "output_type": "stream",
     "text": [
      "+----------------+---------+--------------------+\n",
      "|         Hashtag|    Month|      List of Tweets|\n",
      "+----------------+---------+--------------------+\n",
      "|              #1|September|[#TheSchoolOfCric...|\n",
      "|              #1|  October|[7 teams still fi...|\n",
      "|              #1| November|[Qualifier #1:\\n\\...|\n",
      "|             #10|September|[By the time this...|\n",
      "|            #100|September|[Sure shot #100 @...|\n",
      "|   #100thvictory|September|[Thala Dhoni reco...|\n",
      "|      #10nov2020| November|[#10nov2020 a big...|\n",
      "|#10yearchallenge|  October|[Heavy #2010 feel...|\n",
      "|  #11october2020|  October|[Coincidence #Dre...|\n",
      "|      #11thmatch|September|[For More Follow ...|\n",
      "+----------------+---------+--------------------+\n",
      "only showing top 10 rows\n",
      "\n"
     ]
    }
   ],
   "source": [
    "from pyspark.sql import functions as F\n",
    "\n",
    "# Need to set spark 3 to convert month number to month name\n",
    "spark.conf.set(\"spark.sql.legacy.timeParserPolicy\", \"LEGACY\")\n",
    "\n",
    "# Displaying the inverted index of hashtags and the tweets which have been sorted by the tags and month\n",
    "inverted_index = st_index \\\n",
    "    .select('Hashtag','Month','Tweet') \\\n",
    "    .groupBy('Hashtag','Month') \\\n",
    "    .agg(F.collect_list('Tweet') \\\n",
    "         .alias('List of Tweets')) \\\n",
    "    .drop('Tweet') \\\n",
    "    .orderBy('Hashtag','Month')\n",
    "\n",
    "inverted_index = inverted_index.withColumn('Month', F.date_format(F.to_date('Month', \"MM\"), \"MMMM\"))\n",
    "\n",
    "inverted_index.show(10)"
   ]
  },
  {
   "cell_type": "markdown",
   "metadata": {
    "application/vnd.databricks.v1+cell": {
     "cellMetadata": {},
     "inputWidgets": {},
     "nuid": "3043fab7-66c0-4bb2-abea-9987fc5a0b37",
     "showTitle": false,
     "title": ""
    }
   },
   "source": [
    "### Top Most active users in the given dataset"
   ]
  },
  {
   "cell_type": "code",
   "execution_count": null,
   "metadata": {
    "application/vnd.databricks.v1+cell": {
     "cellMetadata": {
      "byteLimit": 2048000,
      "rowLimit": 10000
     },
     "inputWidgets": {},
     "nuid": "19a76699-f824-41ec-897b-3fb59c2f50f9",
     "showTitle": false,
     "title": ""
    }
   },
   "outputs": [
    {
     "name": "stdout",
     "output_type": "stream",
     "text": [
      "Out[52]: [('Yahoo! Cricket', 330),\n",
      " ('CricketNDTV', 271),\n",
      " ('SportsTiger', 236),\n",
      " ('InsideSport', 219),\n",
      " ('TOI Sports', 211),\n",
      " ('Circle of Cricket', 207),\n",
      " ('IndianPremierLeague', 185),\n",
      " ('SportsMonks', 180),\n",
      " ('CricTracker', 165),\n",
      " ('CricketNext', 161),\n",
      " ('ESPNcricinfo', 157),\n",
      " ('Way2win & Co | Data & Analytics | www.way2win.in', 155),\n",
      " ('Firstpost Sports', 152),\n",
      " ('HT Sports', 151),\n",
      " ('Vinesh Prabhu', 145)]"
     ]
    }
   ],
   "source": [
    "active_users = (tweets.map(lambda line: (line[1],1) )\n",
    "         .reduceByKey(lambda a,b: a+b)\n",
    "         .sortBy(lambda x: x[1] , ascending=False))\n",
    "         \n",
    "active_users.take(15)"
   ]
  },
  {
   "cell_type": "markdown",
   "metadata": {
    "application/vnd.databricks.v1+cell": {
     "cellMetadata": {},
     "inputWidgets": {},
     "nuid": "d2bd5535-fba8-4880-b144-3f4fec5e8668",
     "showTitle": false,
     "title": ""
    }
   },
   "source": [
    "#### We can use the given twitter dataset to find the platforms/sources which are used by the maximum users residing in a specific demography. This analysis offers insights into user behavior, preferences, and trends. It helps identify popular platforms enabling targeted marketing and optimized app development. Understanding platform-specific features and emerging trends aids in strategic planning and resource allocation. These insights drive effective, data-driven decisions in marketing, product enhancement, and customer support. Ultimately, this approach leads to increased user satisfaction and business success. Here, we chose the demography of India and showed the variation of platforms being used by users residing in different parts of the country statewise."
   ]
  },
  {
   "cell_type": "markdown",
   "metadata": {
    "application/vnd.databricks.v1+cell": {
     "cellMetadata": {},
     "inputWidgets": {},
     "nuid": "b99c5e71-b95f-49e4-967b-1b0b8a4d0874",
     "showTitle": false,
     "title": ""
    }
   },
   "source": [
    "Creating, displaying and storing tweets in PySpark RDD"
   ]
  },
  {
   "cell_type": "code",
   "execution_count": null,
   "metadata": {
    "application/vnd.databricks.v1+cell": {
     "cellMetadata": {
      "byteLimit": 2048000,
      "rowLimit": 10000
     },
     "inputWidgets": {},
     "nuid": "035fd678-5535-42d8-9a94-712af89ad4c4",
     "showTitle": false,
     "title": ""
    }
   },
   "outputs": [],
   "source": [
    "# Storing the file path in variable\n",
    "file_path = \"/FileStore/tables/jio2025/Sample_tweets.csv\""
   ]
  },
  {
   "cell_type": "code",
   "execution_count": null,
   "metadata": {
    "application/vnd.databricks.v1+cell": {
     "cellMetadata": {
      "byteLimit": 2048000,
      "rowLimit": 10000
     },
     "inputWidgets": {},
     "nuid": "f1f95957-6144-48de-8998-8d8f61f4d6da",
     "showTitle": false,
     "title": ""
    }
   },
   "outputs": [],
   "source": [
    "# Reading the csv file in pyspark RDD object\n",
    "sample_tweets = spark.read \\\n",
    "    .option(\"header\", \"true\") \\\n",
    "    .option(\"multiLine\", \"true\") \\\n",
    "    .option(\"quote\", '\"') \\\n",
    "    .option(\"escape\", '\"') \\\n",
    "    .csv(file_path)"
   ]
  },
  {
   "cell_type": "code",
   "execution_count": null,
   "metadata": {
    "application/vnd.databricks.v1+cell": {
     "cellMetadata": {
      "byteLimit": 2048000,
      "rowLimit": 10000
     },
     "inputWidgets": {},
     "nuid": "1ba27520-a3a1-4ba1-bfa0-ae02472c6847",
     "showTitle": false,
     "title": ""
    }
   },
   "outputs": [
    {
     "name": "stdout",
     "output_type": "stream",
     "text": [
      "Out[55]: [Row(_c0='0', user_name='Navaldeep Singh', text='Suresh raina has the best room out of all the players  #IPL2020', user_followers='1311', date='25-08-2020', user_location='Melbourne / New Delhi', source='Twitter for iPhone', user_description='#AppleFan #CricketAddict and a happy husband ☺️'),\n",
      " Row(_c0='1', user_name='Naseh Mohtesham', text='All of the Country is So Much into #IPL2020  This Year ...  \\nThanks @BCCI .. Best Decision To Host IPL This Year', user_followers='165', date='29-09-2020', user_location=None, source='Twitter for iPhone', user_description='MBA 👨\\u200d🎓, Cricket 🏏, Politics 💰, RCB Freak 🥰'),\n",
      " Row(_c0='2', user_name='Sports segment', text='#IPL2020 CSK win toss and bowl #IPL #RRvCSK', user_followers='3', date='22-09-2020', user_location=None, source='Twitter Web App', user_description='The official Account of https://t.co/pJmosdM65g'),\n",
      " Row(_c0='3', user_name='kamli kudi 🤪', text='Pooran 🔥🔥\\nFinally !! 🥳🥳💃💃\\n\\n#SaddaPunjab\\xa0 #IPL2020\\xa0 #KXIP\\xa0 #RCBvKXIP', user_followers='29', date='15-10-2020', user_location=None, source='Twitter for iPhone', user_description=None),\n",
      " Row(_c0='4', user_name='Himanshu Dixit', text='every delhi capital fan.....right now!😆\\n\\n#IPL2020 #IPL2020playoffs #today #TrendingNow #viralnews #ViralVideo… https://t.co/vWYepDfDph', user_followers='5', date='05-11-2020', user_location=None, source='Twitter Web App', user_description='Thanks God, for a Creative Mind.....'),\n",
      " Row(_c0='5', user_name='CricTracker', text=\"Shikhar Dhawan's century takes DC to a decent total. #IPL #IPL2020 #KXIPvsDC\\n\\n(📷:  IPL/BCCI) https://t.co/JodBi6z3lu\", user_followers='139300', date='20-10-2020', user_location='India', source='Twitter Web App', user_description='Follow CricTracker for the latest News | Previews | Reviews | Videos | Fantasy Tips | Stats | Interviews and more. https://t.co/S4jp2QGVks'),\n",
      " Row(_c0='6', user_name='Wisden India', text='Shreyas Iyer has won the toss and Delhi Capitals will bowl first in Abu Dhabi!\\n\\n#KKRvDC | #IPL2020 https://t.co/0WG3GbqYql', user_followers='844025', date='24-10-2020', user_location=None, source='TweetDeck', user_description='The independent voice of Indian cricket. For more from Wisden, check out @WisdenCricket'),\n",
      " Row(_c0='7', user_name='Stat Doctor🩺', text='Sanju Samson has the most sixes in #IPL2020 \\n\\nRajasthan Royals have also hit the most sixes by any team in this sea… https://t.co/7JiKv7zUqo', user_followers='1817', date='17-10-2020', user_location=None, source='Twitter for Android', user_description='Cricket Statistics Discussions.\\n\\nRun by @CricXtasy'),\n",
      " Row(_c0='8', user_name='Ankeet Kumar Hanny', text='@RCBTweets lost to @klrahul11 by 23 runs!!\\n#ipl2020 #KXIPvsRCB', user_followers='163', date='24-09-2020', user_location='Bengaluru, India', source='Twitter for Android', user_description='I’ve learnt that I don’t know anything.\\xa0Have also learnt that people will pay me for what I know.\\nLife is good. 😆😇'),\n",
      " Row(_c0='9', user_name='Anubhav Sachdeva', text='Sharjah is too random. Fun to watch for neutrals, but I fear it will wear off very soon. #IPL2020 https://t.co/MqepEpnGGz', user_followers='146', date='03-10-2020', user_location='New Delhi, India & Anfield.', source='Twitter for Android', user_description='Student. Liverpool FC, Delhi Daredevils and WWE fan. Alternating between football, music and food in life. And occasionally studying.')]"
     ]
    }
   ],
   "source": [
    "# Displaying the first 10 rows stored in the RDD object\n",
    "sample_tweets.take(10)"
   ]
  },
  {
   "cell_type": "markdown",
   "metadata": {
    "application/vnd.databricks.v1+cell": {
     "cellMetadata": {},
     "inputWidgets": {},
     "nuid": "caf06ecb-5412-4f4f-a6eb-5270c6d99ba1",
     "showTitle": false,
     "title": ""
    }
   },
   "source": [
    "Data Preprocessing"
   ]
  },
  {
   "cell_type": "code",
   "execution_count": null,
   "metadata": {
    "application/vnd.databricks.v1+cell": {
     "cellMetadata": {
      "byteLimit": 2048000,
      "rowLimit": 10000
     },
     "inputWidgets": {},
     "nuid": "809b4ad7-65c3-4c6e-a449-35e7e10a3f96",
     "showTitle": false,
     "title": ""
    }
   },
   "outputs": [],
   "source": [
    "# Dropping the unimportant columns\n",
    "tweet_details = sample_tweets.drop('_c0','text','user_followers','date','user_description')"
   ]
  },
  {
   "cell_type": "code",
   "execution_count": null,
   "metadata": {
    "application/vnd.databricks.v1+cell": {
     "cellMetadata": {
      "byteLimit": 2048000,
      "rowLimit": 10000
     },
     "inputWidgets": {},
     "nuid": "17e0abd8-ed48-4c36-8bd0-f127037d17d8",
     "showTitle": false,
     "title": ""
    }
   },
   "outputs": [
    {
     "name": "stdout",
     "output_type": "stream",
     "text": [
      "Out[57]: [Row(user_name='Navaldeep Singh', user_location='Melbourne / New Delhi', source='Twitter for iPhone'),\n",
      " Row(user_name='Naseh Mohtesham', user_location=None, source='Twitter for iPhone'),\n",
      " Row(user_name='Sports segment', user_location=None, source='Twitter Web App'),\n",
      " Row(user_name='kamli kudi 🤪', user_location=None, source='Twitter for iPhone'),\n",
      " Row(user_name='Himanshu Dixit', user_location=None, source='Twitter Web App'),\n",
      " Row(user_name='CricTracker', user_location='India', source='Twitter Web App'),\n",
      " Row(user_name='Wisden India', user_location=None, source='TweetDeck'),\n",
      " Row(user_name='Stat Doctor🩺', user_location=None, source='Twitter for Android'),\n",
      " Row(user_name='Ankeet Kumar Hanny', user_location='Bengaluru, India', source='Twitter for Android'),\n",
      " Row(user_name='Anubhav Sachdeva', user_location='New Delhi, India & Anfield.', source='Twitter for Android')]"
     ]
    }
   ],
   "source": [
    "# Displaying the new modified RDD object\n",
    "tweet_details.take(10)"
   ]
  },
  {
   "cell_type": "code",
   "execution_count": null,
   "metadata": {
    "application/vnd.databricks.v1+cell": {
     "cellMetadata": {
      "byteLimit": 2048000,
      "rowLimit": 10000
     },
     "inputWidgets": {},
     "nuid": "81cf78b0-8394-4fdd-9bd9-166e627118f5",
     "showTitle": false,
     "title": ""
    }
   },
   "outputs": [
    {
     "name": "stdout",
     "output_type": "stream",
     "text": [
      "Out[58]: 50000"
     ]
    }
   ],
   "source": [
    "# Displaying the total number of rows in the modified RDD object\n",
    "tweet_details.count()"
   ]
  },
  {
   "cell_type": "code",
   "execution_count": null,
   "metadata": {
    "application/vnd.databricks.v1+cell": {
     "cellMetadata": {
      "byteLimit": 2048000,
      "rowLimit": 10000
     },
     "inputWidgets": {},
     "nuid": "89efbd37-cdaf-470e-8d51-078962dd68c2",
     "showTitle": false,
     "title": ""
    }
   },
   "outputs": [],
   "source": [
    "# Dropping the duplicate rows\n",
    "tweet_details = tweet_details.dropDuplicates()"
   ]
  },
  {
   "cell_type": "code",
   "execution_count": null,
   "metadata": {
    "application/vnd.databricks.v1+cell": {
     "cellMetadata": {
      "byteLimit": 2048000,
      "rowLimit": 10000
     },
     "inputWidgets": {},
     "nuid": "afe77916-61ce-444e-935c-fb619534913f",
     "showTitle": false,
     "title": ""
    }
   },
   "outputs": [],
   "source": [
    "# Dropping the user name column which was only required for uniquely identifying the rows\n",
    "tweet_details = tweet_details.drop('user_name')"
   ]
  },
  {
   "cell_type": "code",
   "execution_count": null,
   "metadata": {
    "application/vnd.databricks.v1+cell": {
     "cellMetadata": {
      "byteLimit": 2048000,
      "rowLimit": 10000
     },
     "inputWidgets": {},
     "nuid": "2fd21406-cad3-4b5a-b7be-fbe57aebff9f",
     "showTitle": false,
     "title": ""
    }
   },
   "outputs": [],
   "source": [
    "# Converting RDD to dataframe for storing list\n",
    "tweet_details = tweet_details.rdd.map(list)"
   ]
  },
  {
   "cell_type": "markdown",
   "metadata": {
    "application/vnd.databricks.v1+cell": {
     "cellMetadata": {},
     "inputWidgets": {},
     "nuid": "dd4e4c33-5079-4277-84e9-879e03ae897f",
     "showTitle": false,
     "title": ""
    }
   },
   "source": [
    "Setting parameters for filtering Indian twitter users"
   ]
  },
  {
   "cell_type": "code",
   "execution_count": null,
   "metadata": {
    "application/vnd.databricks.v1+cell": {
     "cellMetadata": {
      "byteLimit": 2048000,
      "rowLimit": 10000
     },
     "inputWidgets": {},
     "nuid": "b5366225-60b2-408f-9163-f61fc017a484",
     "showTitle": false,
     "title": ""
    }
   },
   "outputs": [],
   "source": [
    "# Creating a dictionary of Indian locations which can be present in the user's location of an Indian tweeter\n",
    "india = {\n",
    "    \"Andhra Pradesh\": [\n",
    "        \"visakhapatnam\", \"visakhapatnam\", \"visakhapatanam\", \"vijayawada\", \"guntur\", \"nellore\", \"kurnool\", \n",
    "        \"rajahmundry\", \"kakinada\", \"tirupati\", \"ananthapur\", \"ongole\", \"kadapa\", \n",
    "        \"vizianagaram\", \"eluru\", \"machilipatnam\", \"tenali\", \"proddatur\", \"chittoor\", \n",
    "        \"hindupur\", \"bhimavaram\", \"adilabad\", \"tadepalligudem\", \"chirala\", \"amravati\", \"andhrapradesh\", \"andhra\"\n",
    "    ],\n",
    "    \"Arunachal Pradesh\": [\"itanagar\", \"arunachalpradesh\", \"arunachal\"],\n",
    "    \"Assam\": [\"guwahati\", \"silchar\", \"dibrugarh\", \"assam\"],\n",
    "    \"Bihar\": [\n",
    "        \"patna\", \"gaya\", \"bhagalpur\", \"muzaffarpur\", \"purnia\", \"darbhanga\", \"arrah\", \n",
    "        \"begusarai\", \"katihar\", \"munger\", \"chhapra\", \"danapur\", \"bihar sharif\", \"betiah\", \n",
    "        \"saharsa\", \"hajipur\", \"dehri\", \"siwan\", \"motihari\", \"nawada\", \"sitamarhi\", \n",
    "        \"supaul\", \"sasauli\", \"bihar\"\n",
    "    ],\n",
    "    \"Chhattisgarh\": [\n",
    "        \"raipur\", \"bhilai\", \"bilaspur\", \"korba\", \"raigarh\", \"jagdalpur\", \"ambikapur\", \"chhattisgarh\"\n",
    "    ],\n",
    "    \"Goa\": [\"panaji\", \"margao\", \"vascodagama\", \"mapusa\", \"goa\"],\n",
    "    \"Gujarat\": [\n",
    "        \"ahmedabad\", \"surat\", \"vadodara\", \"rajkot\", \"bhavnagar\", \"jamnagar\", \"gandhinagar\", \n",
    "        \"junagadh\", \"anand\", \"navsari\", \"surendranagar\", \"valsad\", \"morbi\", \"palanpur\", \n",
    "        \"godhra\", \"vyara\", \"dwarka\", \"gujarat\", \"gujrat\"\n",
    "    ],\n",
    "    \"Haryana\": [\n",
    "        \"faridabad\", \"gurgaon\", \"panipat\", \"ambala\", \"yamunanagar\", \"rohtak\", \"hisar\", \n",
    "        \"karnal\", \"panchkula\", \"sonipat\", \"bhiwani\", \"bahadurgarh\", \"jind\", \"sirsa\", \n",
    "        \"thanesar\", \"kaithal\", \"palwal\", \"rewari\", \"haryana\", \"harayana\"\n",
    "    ],\n",
    "    \"Himachal_pradesh\": [\"shimla\", \"solan\", \"dharamsala\", \"mandi\", \"himachal\", \"himachalpradesh\"],\n",
    "    \"Jharkhand\": [\n",
    "        \"ranchi\", \"dhanbad\", \"jamshedpur\", \"bokaro\", \"deoghar\", \"hazaribagh\", \"giridih\", \n",
    "        \"ramgarh\", \"sindri\", \"gumla\", \"khunti\", \"loharda\", \"jharkhand\"\n",
    "    ],\n",
    "    \"Karnataka\": [\n",
    "        \"bengaluru\", \"hubli\", \"mysore\", \"mangalore\", \"belgaum\", \"gulbarga\", \"davangere\", \n",
    "        \"bellary\", \"bijapur\", \"shimoga\", \"tumkur\", \"ranebennur\", \"hospet\", \"gangavati\", \n",
    "        \"bagalkot\", \"gadag\", \"mandya\", \"chikkamagaluru\", \"karnatak\", \"karnataka\", \"karanatak\", \"karanataka\"\n",
    "    ],\n",
    "    \"Kerala\": [\n",
    "        \"thiruvananthapuram\", \"kochi\", \"kozhikode\", \"kollam\", \"thrissur\", \"alappuzha\", \n",
    "        \"palakkad\", \"kannur\", \"kottayam\", \"malappuram\", \"pathanamthitta\", \"kasaragod\", \n",
    "        \"pallakad\", \"karala\", \"kerla\"\n",
    "    ],\n",
    "    \"Madhya Pradesh\": [\n",
    "        \"bhopal\", \"indore\", \"jabalpur\", \"gwalior\", \"ujjain\", \"sagar\", \"ratlam\", \"satna\", \n",
    "        \"rewa\", \"burhanpur\", \"chhindwara\", \"guna\", \"shivpuri\", \"vidisha\", \"dhar\", \"harda\", \n",
    "        \"hoshangabad\", \"dewas\", \"khandwa\", \"mhow\", \"khargone\", \"raisen\", \"sehore\", \"seoni\", \"mp\", \"madhyapradesh\", \"madhya\"\n",
    "    ],\n",
    "    \"Maharashtra\": [\n",
    "        \"mumbai\", \"pune\", \"nagpur\", \"nashik\", \"thane\", \"aurangabad\", \"solapur\", \"amravati\", \n",
    "        \"kolhapur\", \"latur\", \"ahmednagar\", \"akola\", \"nanded\", \"dhule\", \n",
    "        \"jalgaon\", \"satara\", \"sangli\", \"jalna\", \"bhusawal\", \"beed\", \"parbhani\", \"wardha\", \n",
    "        \"malegaon\", \"bhiwandi\", \"ambarnath\", \"navimumbai\", \"maha\", \"maharashtra\"\n",
    "    ],\n",
    "    \"Manipur\": [\"imphal\", \"manipur\"],\n",
    "    \"Meghalaya\": [\"shillong\", \"meghalaya\"],\n",
    "    \"Mizoram\": [\"aizawl\", \"mizoram\"],\n",
    "    \"Nagaland\": [\"kohima\", \"dimapur\", \"nagaland\"],\n",
    "    \"Odisha\": [\n",
    "        \"bhubaneswar\", \"cuttack\", \"rourkela\", \"puri\", \"sambalpur\", \"balasore\", \"berhampur\", \n",
    "        \"bhadrak\", \"baripada\", \"jharsuguda\", \"bhawanipatna\", \"paradeep\", \"odisha\", \"orissa\"\n",
    "    ],\n",
    "    \"Punjab\": [\n",
    "        \"amritsar\", \"ludhiana\", \"jalandhar\", \"patiala\", \"bathinda\", \"hoshiarpur\", \n",
    "        \"mohali\", \"pathankot\", \"moga\", \"batala\", \"khanna\", \"barnala\", \"muktsar\", \"fazilka\", \"punjab\"\n",
    "    ],\n",
    "    \"Rajasthan\": [\n",
    "        \"jaipur\", \"jodhpur\", \"udaipur\", \"bikaner\", \"ajmer\", \"kota\", \"bharatpur\", \n",
    "        \"bhilwara\", \"alwar\", \"sikar\", \"pali\", \"tonk\", \"bundi\", \"chittorgarh\", \n",
    "        \"hanumangarh\", \"jhunjhunu\", \"nagaur\", \"sawai madhopur\", \"sriganganagar\", \n",
    "        \"barmer\", \"rajasthan\"\n",
    "    ],\n",
    "    \"Sikkim\": [\"gangtok\", \"sikkim\"],\n",
    "    \"Tamil Nadu\": [\n",
    "        \"chennai\", \"coimbatore\", \"madurai\", \"tiruchirappalli\", \"salem\", \"tiruppur\", \n",
    "        \"erode\", \"vellore\", \"thoothukudi\", \"nagercoil\", \"thanjavur\", \"dindigul\", \n",
    "        \"pudukkottai\", \"karaikkudi\", \"rajapalayam\", \"sivakasi\", \"pallavaram\", \n",
    "        \"kanchipuram\", \"kumbakonam\", \"tiruvannamalai\", \"pollachi\", \"padmanabhapuram\", \n",
    "        \"arakkonam\", \"manachanallur\", \"tiruchengode\", \"oddanchatram\", \"ponneri\", \n",
    "        \"kodaikanal\", \"udhagamandalam\", \"arani\", \"puducherry\", \"coonoor\", \n",
    "        \"kadayanallur\", \"vaniyambadi\", \"thiruvarur\", \"thiruvallur\", \"thiruverkadu\", \n",
    "        \"tambaram\", \"tiruttani\", \"tiruchendur\", \"vandavasi\", \"periyakulam\", \"natham\", \n",
    "        \"namagiripettai\", \"mettur\", \"manapparai\", \"lalgudi\", \"kulithalai\", \"jayankondam\", \n",
    "        \"denkanikottai\", \"cheyyar\", \"aranthangi\", \"attur\", \"alangulam\", \"viluppuram\", \n",
    "        \"valparai\", \"vadugapatti\", \"sathyamangalam\", \"rasipuram\", \"pennagaram\", \n",
    "        \"periyapattinam\", \"perambalur\", \"papanasam\", \"palani\", \"oddanchatram\", \n",
    "        \"nambiyur\", \"musiri\", \"modakurichi\", \"marakkanam\", \"kunnathur\", \"kilvelur\", \n",
    "        \"kannivadi\", \"ilampillai\", \"gudiyatham\", \"gobichettipalay\", \"gobichettipalayam\", \n",
    "        \"gingee\", \"eriyur\", \"ervadi\", \"dharmapuri\", \"cuddalore\", \"chinnamanur\", \n",
    "        \"chidambaram\", \"avinashi\", \"arakkonam\", \"anakaputhur\", \"ammapettai\", \n",
    "        \"ambasamudram\", \"arumbakkam\", \"tamilnadu\", \"tamil\", \"nadu\"\n",
    "    ],\n",
    "    \"Telangana\": [\n",
    "        \"hyderabad\", \"warangal\", \"nizamabad\", \"karimnagar\", \"ramagundam\", \"khammam\", \n",
    "        \"mahbubnagar\", \"nalgonda\", \"adilabad\", \"siddipet\", \"miryalaguda\", \"jagtial\", \n",
    "        \"achampet\", \"suryapet\", \"kothagudem\", \"telangana\"\n",
    "    ],\n",
    "    \"Tripura\": [\"agartala\", \"tripura\"],\n",
    "    \"Uttar Pradesh\": [\n",
    "        \"lucknow\", \"kanpur\", \"allahabad\", \"agra\", \"varanasi\", \"meerut\", \"ghaziabad\", \n",
    "        \"bareilly\", \"moradabad\", \"aligarh\", \"saharanpur\", \"noida\", \"firozabad\", \n",
    "        \"jhansi\", \"muzaffarnagar\", \"mathura\", \"raebareli\", \"shahjahanpur\", \n",
    "        \"gorakhpur\", \"faizabad\", \"uttarpradesh\", \"up\", \"uttar\"\n",
    "    ],\n",
    "    \"Uttarakhand\": [\n",
    "        \"dehradun\", \"haridwar\", \"roorkee\", \"haldwani\", \"rudrapur\", \"kashipur\", \n",
    "        \"ramnagar\", \"uttarakhand\", \"uttrakhand\"\n",
    "    ],\n",
    "    \"West Bengal\": [\n",
    "        \"kolkata\", \"howrah\", \"asansol\", \"siliguri\", \"durgapur\", \"bardhaman\", \n",
    "        \"malda\", \"jalpaiguri\", \"krishnanagar\", \"berhampore\", \"nabadwip\", \"bankura\", \n",
    "        \"purulia\", \"rampurhat\", \"westbengal\", \"bengal\"\n",
    "    ],\n",
    "    \"Union Territories\": [\n",
    "        \"newdelhi\", \"chandigarh\", \"puducherry\", \"andaman and nicobar islands\", \n",
    "        \"chandigarh\", \"dadra and nagar haveli\", \"daman and diu\", \"lakshadweep\", \n",
    "        \"delhi\", \"pondicherry\", \"andaman\", \"nicobar\", \"dadra\", \"nagar haveli\", \"daman\", \"diu\", \"silvassa\"\n",
    "    ],\n",
    "    \"Others\": [\"india\", \"bharat\", \"hindustan\"]\n",
    "}\n"
   ]
  },
  {
   "cell_type": "code",
   "execution_count": null,
   "metadata": {
    "application/vnd.databricks.v1+cell": {
     "cellMetadata": {
      "byteLimit": 2048000,
      "rowLimit": 10000
     },
     "inputWidgets": {},
     "nuid": "8836ef27-8fab-4a35-957c-86ed8ac37b60",
     "showTitle": false,
     "title": ""
    }
   },
   "outputs": [],
   "source": [
    "# Coallating all the places into one list\n",
    "\n",
    "from functools import reduce\n",
    "\n",
    "indian_places = list(reduce(lambda x, y: x + y, india.values(), []))"
   ]
  },
  {
   "cell_type": "markdown",
   "metadata": {
    "application/vnd.databricks.v1+cell": {
     "cellMetadata": {},
     "inputWidgets": {},
     "nuid": "10fc7fad-6dd8-4e1f-9f45-8c1f1345b8a4",
     "showTitle": false,
     "title": ""
    }
   },
   "source": [
    "Filtering the Indian twitter users and extracting the state from their given location"
   ]
  },
  {
   "cell_type": "code",
   "execution_count": null,
   "metadata": {
    "application/vnd.databricks.v1+cell": {
     "cellMetadata": {
      "byteLimit": 2048000,
      "rowLimit": 10000
     },
     "inputWidgets": {},
     "nuid": "66b6c6c4-a168-4d95-9000-2a211d2d341c",
     "showTitle": false,
     "title": ""
    }
   },
   "outputs": [],
   "source": [
    "import re\n",
    "\n",
    "# Function to check if the location of the user is in India and accordingly assign the state\n",
    "def indian_loc_check(detail):\n",
    "    user_location = detail[0]\n",
    "    if user_location != None:\n",
    "        user_loc_split = user_location.split()\n",
    "        user_loc_list = [re.sub(r'[^a-z]', '', l.lower()) for l in user_loc_split]\n",
    "        indian_location = list(set(user_loc_list).intersection(set(indian_places)))\n",
    "        state = india.keys() - [\"Others\"]\n",
    "        if indian_location:\n",
    "            for p in indian_location:\n",
    "                for s in state:\n",
    "                    if p in india[s]:\n",
    "                        return (detail[0],detail[1],s)\n",
    "            return (detail[0],detail[1],'Others')\n",
    "        else:\n",
    "            return (detail[0],detail[1],None)\n",
    "    else:\n",
    "        return (detail[0],detail[1],None)"
   ]
  },
  {
   "cell_type": "code",
   "execution_count": null,
   "metadata": {
    "application/vnd.databricks.v1+cell": {
     "cellMetadata": {
      "byteLimit": 2048000,
      "rowLimit": 10000
     },
     "inputWidgets": {},
     "nuid": "4b1e75a9-b63c-4eed-ba54-c211dfffc81c",
     "showTitle": false,
     "title": ""
    }
   },
   "outputs": [],
   "source": [
    "# Storing the unique user's state\n",
    "indian_tweet_details = tweet_details.map(lambda detail: indian_loc_check(detail))"
   ]
  },
  {
   "cell_type": "code",
   "execution_count": null,
   "metadata": {
    "application/vnd.databricks.v1+cell": {
     "cellMetadata": {
      "byteLimit": 2048000,
      "rowLimit": 10000
     },
     "inputWidgets": {},
     "nuid": "cc71c9c8-132a-4927-946c-38e16b755a28",
     "showTitle": false,
     "title": ""
    }
   },
   "outputs": [
    {
     "name": "stdout",
     "output_type": "stream",
     "text": [
      "Out[66]: 24138"
     ]
    }
   ],
   "source": [
    "# Counting the number of unique users\n",
    "indian_tweet_details.count()"
   ]
  },
  {
   "cell_type": "code",
   "execution_count": null,
   "metadata": {
    "application/vnd.databricks.v1+cell": {
     "cellMetadata": {
      "byteLimit": 2048000,
      "rowLimit": 10000
     },
     "inputWidgets": {},
     "nuid": "0d317b03-5129-413c-a8e4-afef65fe256e",
     "showTitle": false,
     "title": ""
    }
   },
   "outputs": [
    {
     "name": "stdout",
     "output_type": "stream",
     "text": [
      "Out[67]: [(None, 'Twitter Web App', None),\n",
      " (None, 'Twitter for Android', None),\n",
      " ('India', 'TweetDeck', 'Others'),\n",
      " ('India', 'Twitter for Android', 'Others'),\n",
      " (None, 'Twitter for Android', None),\n",
      " ('India', 'Twitter Web App', 'Others'),\n",
      " ('Dhuri, India', 'Twitter for Android', 'Others'),\n",
      " ('India', 'Twitter for Android', 'Others'),\n",
      " (None, 'Twitter for Android', None),\n",
      " ('Bengaluru, India', 'Twitter for iPhone', 'Karnataka'),\n",
      " ('Bhagalpur, India', 'Twitter for Android', 'Bihar'),\n",
      " ('Chennai, India', 'Twitter Web App', 'Tamil Nadu'),\n",
      " (None, 'Twitter for Android', None),\n",
      " ('Hyderabad, India', 'Twitter for iPhone', 'Telangana'),\n",
      " ('Hyderabad, India', 'TweetDeck', 'Telangana'),\n",
      " (None, 'Twitter for iPhone', None),\n",
      " ('Ulhasnagar', 'Twitter for Android', None),\n",
      " (None, 'Twitter Web App', None),\n",
      " (None, 'Twitter Web App', None),\n",
      " ('London, England', 'Twitter for Android', None),\n",
      " ('Author? You can opt-out with the keyword “pause”', 'Threader_client', None),\n",
      " (None, 'Twitter for Android', None),\n",
      " ('Hyderabad, India', 'Twitter Web App', 'Telangana'),\n",
      " (None, 'Twitter for Android', None),\n",
      " (None, 'Twitter for Android', None),\n",
      " ('Manchester, England', 'Twitter for iPhone', None),\n",
      " (None, 'Twitter for Android', None),\n",
      " ('Mumbai', 'Twitter for Android', 'Maharashtra'),\n",
      " (None, 'Twitter for Android', None),\n",
      " ('Location', 'Twitter for Android', None),\n",
      " ('India', 'Hootsuite Inc.', 'Others'),\n",
      " ('Bhubaneshwar, India', 'Twitter for Android', 'Others'),\n",
      " ('Kerala, India', 'Twitter for Android', 'Others'),\n",
      " ('Addanki, India', 'Twitter for Android', 'Others'),\n",
      " (None, 'Twitter for Android', None),\n",
      " ('India i.e. Bharat', 'Twitter Web App', 'Others'),\n",
      " ('Mumbai,India', 'Twitter Web App', None),\n",
      " ('India', 'Twitter for Android', 'Others'),\n",
      " ('Mumbai, India', 'Twitter for iPhone', 'Maharashtra'),\n",
      " ('Bengaluru, India', 'Twitter Web App', 'Karnataka'),\n",
      " (None, 'Twitter for Android', None),\n",
      " ('UAE', 'Twitter for Android', None),\n",
      " ('In Classroom', 'Twitter for iPhone', None),\n",
      " ('Madhya Pradesh, India', 'Twitter Web App', 'Madhya Pradesh'),\n",
      " ('Germany', 'Twitter for Android', None),\n",
      " ('Shegaon, India', 'Twitter for Android', 'Others'),\n",
      " ('Visakhapatnam.', 'Twitter for iPad', 'Andhra Pradesh'),\n",
      " ('Hyderabad, India', 'Twitter for Android', 'Telangana'),\n",
      " ('South Kashmir', 'Twitter for Android', None),\n",
      " (None, 'Twitter for Android', None),\n",
      " ('Noida, India', 'Twitter for Android', 'Uttar Pradesh'),\n",
      " ('RTC X Roads , Hyderabad ', 'Twitter for Android', 'Telangana'),\n",
      " ('Rajnandgaon, India', 'Twitter for Android', 'Others'),\n",
      " (None, 'Twitter Web App', None),\n",
      " (None, 'Twitter for iPhone', None),\n",
      " ('Guntur, India', 'Twitter for Android', 'Andhra Pradesh'),\n",
      " (None, 'Twitter for iPhone', None),\n",
      " ('Laharpur, India - Sitapur', 'Twitter for Android', 'Others'),\n",
      " ('Bengaluru South, India', 'Twitter for Android', 'Karnataka'),\n",
      " ('nepali:jhapali', 'Twitter for Android', None),\n",
      " ('TamilNadu, India', 'Twitter for Android', 'Tamil Nadu'),\n",
      " ('India, NZ and Australia ', 'Twitter for Android', 'Others'),\n",
      " (None, 'Twitter for Android', None),\n",
      " ('Leeds, England', 'Twitter for iPhone', None),\n",
      " (None, 'Twitter for Android', None),\n",
      " ('Chennai', 'Twitter Web App', 'Tamil Nadu'),\n",
      " ('NOIDA', 'Twitter for Android', 'Uttar Pradesh'),\n",
      " (None, 'Twitter for Android', None),\n",
      " ('Bangalore/Kerala', 'Twitter for Android', None),\n",
      " ('Edappal, India', 'Twitter for iPhone', 'Others'),\n",
      " ('India', 'Twitter Web App', 'Others'),\n",
      " ('Madurai', 'Twitter Web App', 'Tamil Nadu'),\n",
      " ('Karnataka', 'Twitter Web App', 'Karnataka'),\n",
      " ('Bengaluru, India', 'Twitter for Android', 'Karnataka'),\n",
      " (\"Outta Mama's Uterus\", 'Twitter for Android', None),\n",
      " ('Hyderabad', 'Twitter for Android', 'Telangana'),\n",
      " (None, 'Twitter for Android', None),\n",
      " (None, 'Twitter for Android', None),\n",
      " ('India', 'Twitter for Android', 'Others'),\n",
      " ('India 🇮🇳 ', 'Twitter for Android', 'Others'),\n",
      " ('Namakkal', 'Twitter Web App', None),\n",
      " ('Lucknow, India', 'Twitter for Android', 'Uttar Pradesh'),\n",
      " ('Tamil Nadu, India', 'Twitter for Android', 'Tamil Nadu'),\n",
      " ('వైజాగు(Visakhapatanam) ', 'Twitter Web App', 'Andhra Pradesh'),\n",
      " ('IPL 2020', 'TweetDeck', None),\n",
      " ('Hyderabad, India', 'Instagram', 'Telangana'),\n",
      " ('Maharashtra, India', 'Twitter for Android', 'Maharashtra'),\n",
      " ('New Delhi, India', 'Twitter for Android', 'Union Territories'),\n",
      " ('Jaipur, India', 'Twitter for Android', 'Rajasthan'),\n",
      " (None, 'Twitter for Android', None),\n",
      " ('Bhubaneswar, Odisha', 'Twitter for Android', 'Odisha'),\n",
      " ('Karur', 'Twitter Web App', None),\n",
      " (None, 'Twitter for Android', None),\n",
      " ('England, South ', 'Twitter for Android', None),\n",
      " ('in your ❤️', 'Twitter for Android', None),\n",
      " ('Bangalore ', 'Twitter for Android', None),\n",
      " ('silvassa', 'SocialPilot.co', 'Union Territories'),\n",
      " ('India', 'Twitter Web App', 'Others'),\n",
      " ('Angamaly, India', 'Twitter for Android', 'Others'),\n",
      " ('Raleigh, NC', 'Twitter for iPhone', None)]"
     ]
    }
   ],
   "source": [
    "# Displaying the unique twitter users' location, platform used and state to which they belong\n",
    "indian_tweet_details.take(100)"
   ]
  },
  {
   "cell_type": "code",
   "execution_count": null,
   "metadata": {
    "application/vnd.databricks.v1+cell": {
     "cellMetadata": {
      "byteLimit": 2048000,
      "rowLimit": 10000
     },
     "inputWidgets": {},
     "nuid": "526a3b5f-cbc7-4f9f-921e-e5cf1704a5b7",
     "showTitle": false,
     "title": ""
    }
   },
   "outputs": [],
   "source": [
    "# Filtering out the Indian twitter users\n",
    "indian_loc_platform_state = indian_tweet_details.filter(lambda detail: detail[2] != None)"
   ]
  },
  {
   "cell_type": "code",
   "execution_count": null,
   "metadata": {
    "application/vnd.databricks.v1+cell": {
     "cellMetadata": {
      "byteLimit": 2048000,
      "rowLimit": 10000
     },
     "inputWidgets": {},
     "nuid": "3a639528-ab34-4c43-8a87-747ae1ced795",
     "showTitle": false,
     "title": ""
    }
   },
   "outputs": [
    {
     "name": "stdout",
     "output_type": "stream",
     "text": [
      "Out[69]: 11870"
     ]
    }
   ],
   "source": [
    "# Counting the total number of Indian twitter users\n",
    "indian_loc_platform_state.count()"
   ]
  },
  {
   "cell_type": "code",
   "execution_count": null,
   "metadata": {
    "application/vnd.databricks.v1+cell": {
     "cellMetadata": {
      "byteLimit": 2048000,
      "rowLimit": 10000
     },
     "inputWidgets": {},
     "nuid": "0b6766c2-1fe5-406a-99ca-416978ec2039",
     "showTitle": false,
     "title": ""
    }
   },
   "outputs": [
    {
     "name": "stdout",
     "output_type": "stream",
     "text": [
      "Out[70]: [('India', 'TweetDeck', 'Others'),\n",
      " ('India', 'Twitter for Android', 'Others'),\n",
      " ('India', 'Twitter Web App', 'Others'),\n",
      " ('Dhuri, India', 'Twitter for Android', 'Others'),\n",
      " ('India', 'Twitter for Android', 'Others'),\n",
      " ('Bengaluru, India', 'Twitter for iPhone', 'Karnataka'),\n",
      " ('Bhagalpur, India', 'Twitter for Android', 'Bihar'),\n",
      " ('Chennai, India', 'Twitter Web App', 'Tamil Nadu'),\n",
      " ('Hyderabad, India', 'Twitter for iPhone', 'Telangana'),\n",
      " ('Hyderabad, India', 'TweetDeck', 'Telangana'),\n",
      " ('Hyderabad, India', 'Twitter Web App', 'Telangana'),\n",
      " ('Mumbai', 'Twitter for Android', 'Maharashtra'),\n",
      " ('India', 'Hootsuite Inc.', 'Others'),\n",
      " ('Bhubaneshwar, India', 'Twitter for Android', 'Others'),\n",
      " ('Kerala, India', 'Twitter for Android', 'Others'),\n",
      " ('Addanki, India', 'Twitter for Android', 'Others'),\n",
      " ('India i.e. Bharat', 'Twitter Web App', 'Others'),\n",
      " ('India', 'Twitter for Android', 'Others'),\n",
      " ('Mumbai, India', 'Twitter for iPhone', 'Maharashtra'),\n",
      " ('Bengaluru, India', 'Twitter Web App', 'Karnataka'),\n",
      " ('Madhya Pradesh, India', 'Twitter Web App', 'Madhya Pradesh'),\n",
      " ('Shegaon, India', 'Twitter for Android', 'Others'),\n",
      " ('Visakhapatnam.', 'Twitter for iPad', 'Andhra Pradesh'),\n",
      " ('Hyderabad, India', 'Twitter for Android', 'Telangana'),\n",
      " ('Noida, India', 'Twitter for Android', 'Uttar Pradesh'),\n",
      " ('RTC X Roads , Hyderabad ', 'Twitter for Android', 'Telangana'),\n",
      " ('Rajnandgaon, India', 'Twitter for Android', 'Others'),\n",
      " ('Guntur, India', 'Twitter for Android', 'Andhra Pradesh'),\n",
      " ('Laharpur, India - Sitapur', 'Twitter for Android', 'Others'),\n",
      " ('Bengaluru South, India', 'Twitter for Android', 'Karnataka'),\n",
      " ('TamilNadu, India', 'Twitter for Android', 'Tamil Nadu'),\n",
      " ('India, NZ and Australia ', 'Twitter for Android', 'Others'),\n",
      " ('Chennai', 'Twitter Web App', 'Tamil Nadu'),\n",
      " ('NOIDA', 'Twitter for Android', 'Uttar Pradesh'),\n",
      " ('Edappal, India', 'Twitter for iPhone', 'Others'),\n",
      " ('India', 'Twitter Web App', 'Others'),\n",
      " ('Madurai', 'Twitter Web App', 'Tamil Nadu'),\n",
      " ('Karnataka', 'Twitter Web App', 'Karnataka'),\n",
      " ('Bengaluru, India', 'Twitter for Android', 'Karnataka'),\n",
      " ('Hyderabad', 'Twitter for Android', 'Telangana'),\n",
      " ('India', 'Twitter for Android', 'Others'),\n",
      " ('India 🇮🇳 ', 'Twitter for Android', 'Others'),\n",
      " ('Lucknow, India', 'Twitter for Android', 'Uttar Pradesh'),\n",
      " ('Tamil Nadu, India', 'Twitter for Android', 'Tamil Nadu'),\n",
      " ('వైజాగు(Visakhapatanam) ', 'Twitter Web App', 'Andhra Pradesh'),\n",
      " ('Hyderabad, India', 'Instagram', 'Telangana'),\n",
      " ('Maharashtra, India', 'Twitter for Android', 'Maharashtra'),\n",
      " ('New Delhi, India', 'Twitter for Android', 'Union Territories'),\n",
      " ('Jaipur, India', 'Twitter for Android', 'Rajasthan'),\n",
      " ('Bhubaneswar, Odisha', 'Twitter for Android', 'Odisha'),\n",
      " ('silvassa', 'SocialPilot.co', 'Union Territories'),\n",
      " ('India', 'Twitter Web App', 'Others'),\n",
      " ('Angamaly, India', 'Twitter for Android', 'Others'),\n",
      " ('India', 'Twitter Web App', 'Others'),\n",
      " ('India', 'Twitter for iPhone', 'Others'),\n",
      " ('India', 'Twitter for Android', 'Others'),\n",
      " ('Navi Mumbai, India', 'Twitter Web App', 'Maharashtra'),\n",
      " ('Vidisha, India', 'Twitter for Android', 'Madhya Pradesh'),\n",
      " ('Mumbai, India', 'Twitter for iPhone', 'Maharashtra'),\n",
      " ('Agra, India', 'Twitter for Android', 'Uttar Pradesh'),\n",
      " ('Etawah, India', 'Twitter for Android', 'Others'),\n",
      " ('India', 'Twitter for iPhone', 'Others'),\n",
      " ('New Delhi', 'Twitter for iPhone', 'Union Territories'),\n",
      " ('New Delhi, India', 'Twitter for Android', 'Union Territories'),\n",
      " ('India🇮🇳', 'Twitter for Android', 'Others'),\n",
      " ('Mumbai, India', 'Twitter for iPhone', 'Maharashtra'),\n",
      " ('INDIA', 'Twitter for Android', 'Others'),\n",
      " ('Chennai, India', 'Twitter for Android', 'Tamil Nadu'),\n",
      " ('Rajkot, India', 'Twitter for Android', 'Gujarat'),\n",
      " ('Mumbai', 'Twitter for Android', 'Maharashtra'),\n",
      " ('Saket, New Delhi', 'Hootsuite Inc.', 'Union Territories'),\n",
      " ('Hyderabad, India', 'Twitter Web App', 'Telangana'),\n",
      " ('Kolkata, India', 'Twitter for Android', 'West Bengal'),\n",
      " ('Darbhanga, India', 'Twitter for Android', 'Bihar'),\n",
      " ('Mumbai, India', 'Twitter Web App', 'Maharashtra'),\n",
      " ('Himachal Pradesh, India', 'Twitter for Android', 'Himachal_pradesh'),\n",
      " ('Hyderabad', 'Twitter for iPhone', 'Telangana'),\n",
      " ('Faridabad, India', 'Twitter for iPhone', 'Haryana'),\n",
      " ('Punjab, India', 'Twitter for Android', 'Punjab'),\n",
      " ('Mumbai, India', 'Twitter Web App', 'Maharashtra'),\n",
      " ('Vijayawada ', 'Twitter for Android', 'Andhra Pradesh'),\n",
      " ('Chennai, India', 'Twitter Web App', 'Tamil Nadu'),\n",
      " ('Odisha', 'Twitter for Android', 'Odisha'),\n",
      " ('Gurgaon, India', 'Twitter for iPhone', 'Haryana'),\n",
      " ('India', 'Twitter for Android', 'Others'),\n",
      " ('Jaipur, India', 'Twitter for Android', 'Rajasthan'),\n",
      " ('Bengaluru, India', 'Twitter for Android', 'Karnataka'),\n",
      " ('Madhya Pradesh, India', 'Twitter for Android', 'Madhya Pradesh'),\n",
      " ('India', 'Twitter for Android', 'Others'),\n",
      " ('Haridwar, India', 'Twitter for Android', 'Uttarakhand'),\n",
      " ('Allahabad, India', 'Twitter for Android', 'Uttar Pradesh'),\n",
      " ('Chennai', 'Twitter for Android', 'Tamil Nadu'),\n",
      " ('Warangal - Hyderabad, India', 'Twitter for Android', 'Telangana'),\n",
      " ('Junagadh, Gujarat, India', 'Twitter for Android', 'Gujarat'),\n",
      " ('New Delhi, India', 'Twitter Web App', 'Union Territories'),\n",
      " ('India', 'Twitter for iPhone', 'Others'),\n",
      " ('India', 'Twitter Web App', 'Others'),\n",
      " ('Ahmedabad', 'Twitter Web App', 'Gujarat'),\n",
      " ('Mohali, India', 'TweetDeck', 'Punjab'),\n",
      " ('India', 'Twitter for Android', 'Others')]"
     ]
    }
   ],
   "source": [
    "# Displaying the details of some Indian twitter users\n",
    "indian_loc_platform_state.take(100)"
   ]
  },
  {
   "cell_type": "code",
   "execution_count": null,
   "metadata": {
    "application/vnd.databricks.v1+cell": {
     "cellMetadata": {
      "byteLimit": 2048000,
      "rowLimit": 10000
     },
     "inputWidgets": {},
     "nuid": "eac5d8bc-b1bd-435d-b772-04f8665c462c",
     "showTitle": false,
     "title": ""
    }
   },
   "outputs": [],
   "source": [
    "# Converting the RDD object to dataframe and applying the header for the columns respectively\n",
    "indian_loc_platform_state = indian_loc_platform_state.toDF(['Location','Platform','State'])"
   ]
  },
  {
   "cell_type": "code",
   "execution_count": null,
   "metadata": {
    "application/vnd.databricks.v1+cell": {
     "cellMetadata": {
      "byteLimit": 2048000,
      "rowLimit": 10000
     },
     "inputWidgets": {},
     "nuid": "4e886632-95e2-4887-87a4-4fd04b126a77",
     "showTitle": false,
     "title": ""
    }
   },
   "outputs": [],
   "source": [
    "# Dropping the detailed location of the user since their state has been identified\n",
    "indian_loc_platform_state = indian_loc_platform_state.drop('Location')"
   ]
  },
  {
   "cell_type": "markdown",
   "metadata": {
    "application/vnd.databricks.v1+cell": {
     "cellMetadata": {},
     "inputWidgets": {},
     "nuid": "2e83ca46-b58c-4bf4-a69b-e5ef460f4025",
     "showTitle": false,
     "title": ""
    }
   },
   "source": [
    "Top 5 platforms used by Indian twitter users from every state"
   ]
  },
  {
   "cell_type": "code",
   "execution_count": null,
   "metadata": {
    "application/vnd.databricks.v1+cell": {
     "cellMetadata": {
      "byteLimit": 2048000,
      "rowLimit": 10000
     },
     "inputWidgets": {},
     "nuid": "417e099f-432d-4615-a6e2-9827531ffad1",
     "showTitle": false,
     "title": ""
    }
   },
   "outputs": [
    {
     "name": "stdout",
     "output_type": "stream",
     "text": [
      "+-----------------+--------------------+---------------+\n",
      "|            State|            Platform|Number of Users|\n",
      "+-----------------+--------------------+---------------+\n",
      "|   Andhra Pradesh| Twitter for Android|            238|\n",
      "|   Andhra Pradesh|     Twitter Web App|             34|\n",
      "|   Andhra Pradesh|  Twitter for iPhone|             19|\n",
      "|   Andhra Pradesh|    Twitter for iPad|              1|\n",
      "|   Andhra Pradesh|TweetCaster for A...|              1|\n",
      "|Arunachal Pradesh| Twitter for Android|              1|\n",
      "|            Assam| Twitter for Android|             64|\n",
      "|            Assam|     Twitter Web App|             16|\n",
      "|            Assam|  Twitter for iPhone|              2|\n",
      "|            Assam|            EastMojo|              1|\n",
      "|            Assam|           TweetDeck|              1|\n",
      "|            Bihar| Twitter for Android|            147|\n",
      "|            Bihar|     Twitter Web App|             20|\n",
      "|            Bihar|  Twitter for iPhone|              6|\n",
      "|     Chhattisgarh| Twitter for Android|             32|\n",
      "|     Chhattisgarh|     Twitter Web App|              4|\n",
      "|     Chhattisgarh|  Twitter for iPhone|              2|\n",
      "|              Goa| Twitter for Android|             30|\n",
      "|              Goa|  Twitter for iPhone|              8|\n",
      "|              Goa|     Twitter Web App|              4|\n",
      "+-----------------+--------------------+---------------+\n",
      "only showing top 20 rows\n",
      "\n"
     ]
    }
   ],
   "source": [
    "# Grouping the users by their state and the platform they use for twitter\n",
    "# Storing and displaying the top 5 platforms in each state with the count of users\n",
    "\n",
    "from pyspark.sql.functions import desc\n",
    "from pyspark.sql.window import Window\n",
    "from pyspark.sql.functions import col, row_number\n",
    "\n",
    "windowDept = Window.partitionBy('State').orderBy(col('State').asc(),col('count').desc())\n",
    "\n",
    "final = indian_loc_platform_state \\\n",
    "    .select('State','Platform') \\\n",
    "    .groupBy('State','Platform') \\\n",
    "    .count() \\\n",
    "    .withColumn('Number of Users',col('count')) \\\n",
    "    .withColumn('r',row_number().over(windowDept)) \\\n",
    "    .filter(col('r') <= 5) \\\n",
    "    .drop('r','count') \\\n",
    "    .show()"
   ]
  },
  {
   "cell_type": "markdown",
   "metadata": {
    "application/vnd.databricks.v1+cell": {
     "cellMetadata": {},
     "inputWidgets": {},
     "nuid": "a16f42c2-d579-4604-bf6a-a31b615c5073",
     "showTitle": false,
     "title": ""
    }
   },
   "source": [
    "### Top 10 users who tweet about MS Dhoni"
   ]
  },
  {
   "cell_type": "code",
   "execution_count": null,
   "metadata": {
    "application/vnd.databricks.v1+cell": {
     "cellMetadata": {
      "byteLimit": 2048000,
      "rowLimit": 10000
     },
     "inputWidgets": {},
     "nuid": "adc1e9ca-0b1f-400d-9670-50e44b14768f",
     "showTitle": false,
     "title": ""
    }
   },
   "outputs": [
    {
     "name": "stdout",
     "output_type": "stream",
     "text": [
      "Out[74]: [('Circle of Cricket', 16),\n",
      " ('Cricadium CRICKET', 12),\n",
      " ('MSDian™', 12),\n",
      " ('Oneindia News', 12),\n",
      " ('India.com', 10),\n",
      " ('CricketNDTV', 10),\n",
      " ('India Today Sports', 10),\n",
      " ('SportsTiger', 9),\n",
      " ('myKhel.com', 8),\n",
      " ('CricTracker', 8)]"
     ]
    }
   ],
   "source": [
    "import re\n",
    "\n",
    "# Storing all the way in which MS dhoni can be referred in the tweet text\n",
    "dhoni_keywords = [\n",
    "    \"dhoni\", \"mahi\", \"captaincool\", \"thala\",\n",
    "]\n",
    "\n",
    "def process(line):\n",
    "    text = line[2].lower()\n",
    "    pattern = r\"[^\\w#]+\" # Matches any character except word characters (alphanumerics and underscore) and # character as well\n",
    "    text = re.sub(pattern, \"\", text)\n",
    "\n",
    "    # If any reference of dhoni is made then we return 1 as the value of key value pair or else 0\n",
    "    for x in dhoni_keywords:\n",
    "        if x in text:\n",
    "            return (line[1],1)\n",
    "    \n",
    "    return (line[1],0)\n",
    "\n",
    "users_dhoni = (tweets.map(lambda line: process(line))\n",
    "             .filter(lambda x: x[1] == 1).reduceByKey(lambda a,b:a+b).sortBy(lambda x: x[1], ascending=False).take(10))\n",
    "\n",
    "users_dhoni"
   ]
  }
 ],
 "metadata": {
  "application/vnd.databricks.v1+notebook": {
   "dashboards": [],
   "environmentMetadata": null,
   "language": "python",
   "notebookMetadata": {
    "mostRecentlyExecutedCommandWithImplicitDF": {
     "commandId": 1107751642242973,
     "dataframes": [
      "_sqldf"
     ]
    },
    "pythonIndentUnit": 4
   },
   "notebookName": "BDE_MidTerm_Group10",
   "widgets": {}
  },
  "language_info": {
   "name": "python"
  }
 },
 "nbformat": 4,
 "nbformat_minor": 0
}
